{
 "cells": [
  {
   "cell_type": "code",
   "execution_count": 1,
   "metadata": {
    "executionInfo": {
     "elapsed": 13380,
     "status": "ok",
     "timestamp": 1734525881611,
     "user": {
      "displayName": "24/AFI/09 SUJYOTI JHA",
      "userId": "14757572772141335405"
     },
     "user_tz": -330
    },
    "id": "OVXEvOiKazy7"
   },
   "outputs": [],
   "source": [
    "import os\n",
    "import librosa\n",
    "import numpy as np\n",
    "import tensorflow as tf\n",
    "from tensorflow.keras.layers import Input, Conv2D, MaxPool2D, Flatten, Dense,Dropout\n",
    "from tensorflow.keras.models import Model\n",
    "from tensorflow.keras.optimizers import Adam\n",
    "from tensorflow.keras.utils import to_categorical\n",
    "from tensorflow.image import resize\n",
    "import matplotlib.pyplot as plt\n",
    "import seaborn as sns"
   ]
  },
  {
   "cell_type": "code",
   "execution_count": 2,
   "metadata": {
    "colab": {
     "base_uri": "https://localhost:8080/"
    },
    "executionInfo": {
     "elapsed": 14985,
     "status": "ok",
     "timestamp": 1734525900368,
     "user": {
      "displayName": "24/AFI/09 SUJYOTI JHA",
      "userId": "14757572772141335405"
     },
     "user_tz": -330
    },
    "id": "_fykd2kERu3r",
    "outputId": "4042bcdc-c01b-4b6e-a2c4-eeafe942d778"
   },
   "outputs": [
    {
     "name": "stdout",
     "output_type": "stream",
     "text": [
      "Drive already mounted at /content/drive; to attempt to forcibly remount, call drive.mount(\"/content/drive\", force_remount=True).\n"
     ]
    }
   ],
   "source": [
    "from google.colab import drive\n",
    "drive.mount('/content/drive')"
   ]
  },
  {
   "cell_type": "code",
   "execution_count": 3,
   "metadata": {
    "executionInfo": {
     "elapsed": 443,
     "status": "ok",
     "timestamp": 1734525903724,
     "user": {
      "displayName": "24/AFI/09 SUJYOTI JHA",
      "userId": "14757572772141335405"
     },
     "user_tz": -330
    },
    "id": "93wu0xCuMCNm"
   },
   "outputs": [],
   "source": [
    "data_dir = '/content/drive/MyDrive/Colab Notebooks/Music Genre Classification/genres_original'"
   ]
  },
  {
   "cell_type": "markdown",
   "metadata": {
    "id": "XPopDeQMHPLm"
   },
   "source": [
    "**bold text**# Data Preprocessing"
   ]
  },
  {
   "cell_type": "code",
   "execution_count": 4,
   "metadata": {
    "executionInfo": {
     "elapsed": 383,
     "status": "ok",
     "timestamp": 1734525906062,
     "user": {
      "displayName": "24/AFI/09 SUJYOTI JHA",
      "userId": "14757572772141335405"
     },
     "user_tz": -330
    },
    "id": "oqKlFf9PHWhK"
   },
   "outputs": [],
   "source": [
    "#define your folder structure\n",
    "classes = ['blues', 'classical','country','disco','hiphop','jazz','metal','pop','reggae','rock']"
   ]
  },
  {
   "cell_type": "code",
   "execution_count": 5,
   "metadata": {
    "executionInfo": {
     "elapsed": 450,
     "status": "ok",
     "timestamp": 1734525909873,
     "user": {
      "displayName": "24/AFI/09 SUJYOTI JHA",
      "userId": "14757572772141335405"
     },
     "user_tz": -330
    },
    "id": "0MLE-xH_KxUX"
   },
   "outputs": [],
   "source": [
    "from tensorflow.image import resize\n",
    "#Load and preprocess audio data\n",
    "def load_and_preprocess_data(data_dir,classes,target_shape=(150,150)):\n",
    "    data=[]\n",
    "    labels=[]\n",
    "\n",
    "    for i_class,class_name in enumerate(classes):\n",
    "        # Use os.path.join to create the full path to the class directory.\n",
    "        class_dir = os.path.join(data_dir, class_name)\n",
    "        print(\"Processing--\",class_dir) # Print the full path to debug\n",
    "        for filename in os.listdir(class_dir):\n",
    "            if filename.endswith('.wav'):\n",
    "                file_path = os.path.join(class_dir,filename)\n",
    "                audio_data,sample_rate = librosa.load(file_path,sr=None)\n",
    "                #Performing Preprocessing\n",
    "                #define the duration of each chunk and overlap\n",
    "                chunk_duration = 4\n",
    "                overlap_duration = 2\n",
    "\n",
    "                #Convert duration to sample\n",
    "                chunk_samples = chunk_duration * sample_rate\n",
    "                overlap_samples = overlap_duration * sample_rate\n",
    "\n",
    "                #Calculate the number of chunks\n",
    "                num_chunks = int(np.ceil((len(audio_data)-chunk_samples)/(chunk_samples-overlap_samples)))+1\n",
    "\n",
    "                #iterate over each chunks\n",
    "                for i in range(num_chunks):\n",
    "                    #Calculate start and end indices of the chunk\n",
    "                    start = i*(chunk_samples-overlap_samples)\n",
    "                    end = start+chunk_samples\n",
    "                    #Extract the chunk audio\n",
    "                    chunk = audio_data[start:end]\n",
    "                    #Melspectrogram part\n",
    "                    mel_spectrogram = librosa.feature.melspectrogram(y=chunk,sr=sample_rate)\n",
    "                    #Resize matrix based on provided target shape\n",
    "                    mel_spectrogram = resize(np.expand_dims(mel_spectrogram,axis=-1),target_shape)\n",
    "                    #Append data to list\n",
    "                    data.append(mel_spectrogram)\n",
    "                    labels.append(i_class)\n",
    "    #Return\n",
    "    return np.array(data),np.array(labels)"
   ]
  },
  {
   "cell_type": "code",
   "execution_count": 6,
   "metadata": {
    "colab": {
     "base_uri": "https://localhost:8080/"
    },
    "executionInfo": {
     "elapsed": 271326,
     "status": "ok",
     "timestamp": 1734526186711,
     "user": {
      "displayName": "24/AFI/09 SUJYOTI JHA",
      "userId": "14757572772141335405"
     },
     "user_tz": -330
    },
    "id": "pF7pFiIULVNA",
    "outputId": "f1d9dcaa-756c-4df8-b45e-4adaf6f50b3d"
   },
   "outputs": [
    {
     "name": "stdout",
     "output_type": "stream",
     "text": [
      "Processing-- /content/drive/MyDrive/Colab Notebooks/Music Genre Classification/genres_original/blues\n",
      "Processing-- /content/drive/MyDrive/Colab Notebooks/Music Genre Classification/genres_original/classical\n",
      "Processing-- /content/drive/MyDrive/Colab Notebooks/Music Genre Classification/genres_original/country\n",
      "Processing-- /content/drive/MyDrive/Colab Notebooks/Music Genre Classification/genres_original/disco\n",
      "Processing-- /content/drive/MyDrive/Colab Notebooks/Music Genre Classification/genres_original/hiphop\n",
      "Processing-- /content/drive/MyDrive/Colab Notebooks/Music Genre Classification/genres_original/jazz\n",
      "Processing-- /content/drive/MyDrive/Colab Notebooks/Music Genre Classification/genres_original/metal\n",
      "Processing-- /content/drive/MyDrive/Colab Notebooks/Music Genre Classification/genres_original/pop\n",
      "Processing-- /content/drive/MyDrive/Colab Notebooks/Music Genre Classification/genres_original/reggae\n",
      "Processing-- /content/drive/MyDrive/Colab Notebooks/Music Genre Classification/genres_original/rock\n"
     ]
    }
   ],
   "source": [
    "data,labels = load_and_preprocess_data(data_dir,classes)"
   ]
  },
  {
   "cell_type": "code",
   "execution_count": 7,
   "metadata": {
    "colab": {
     "base_uri": "https://localhost:8080/"
    },
    "executionInfo": {
     "elapsed": 453,
     "status": "ok",
     "timestamp": 1734526527918,
     "user": {
      "displayName": "24/AFI/09 SUJYOTI JHA",
      "userId": "14757572772141335405"
     },
     "user_tz": -330
    },
    "id": "GDAmxGScUpH3",
    "outputId": "6ead0cfb-04e5-4dd7-a080-efee78cd0b84"
   },
   "outputs": [
    {
     "data": {
      "text/plain": [
       "(14975, 150, 150, 1)"
      ]
     },
     "execution_count": 7,
     "metadata": {},
     "output_type": "execute_result"
    }
   ],
   "source": [
    "data.shape"
   ]
  },
  {
   "cell_type": "code",
   "execution_count": 8,
   "metadata": {
    "colab": {
     "base_uri": "https://localhost:8080/"
    },
    "executionInfo": {
     "elapsed": 448,
     "status": "ok",
     "timestamp": 1734526532445,
     "user": {
      "displayName": "24/AFI/09 SUJYOTI JHA",
      "userId": "14757572772141335405"
     },
     "user_tz": -330
    },
    "id": "D9np8qWyUzVX",
    "outputId": "4068967f-5b8e-4c44-f2bc-3b13d21e1b4a"
   },
   "outputs": [
    {
     "data": {
      "text/plain": [
       "(14975,)"
      ]
     },
     "execution_count": 8,
     "metadata": {},
     "output_type": "execute_result"
    }
   ],
   "source": [
    "labels.shape"
   ]
  },
  {
   "cell_type": "code",
   "execution_count": 9,
   "metadata": {
    "colab": {
     "base_uri": "https://localhost:8080/"
    },
    "executionInfo": {
     "elapsed": 433,
     "status": "ok",
     "timestamp": 1734526537786,
     "user": {
      "displayName": "24/AFI/09 SUJYOTI JHA",
      "userId": "14757572772141335405"
     },
     "user_tz": -330
    },
    "id": "Ez_9kajLVBLl",
    "outputId": "a970a73d-f4f2-4128-c64d-16f24654351f"
   },
   "outputs": [
    {
     "data": {
      "text/plain": [
       "array([[1., 0., 0., ..., 0., 0., 0.],\n",
       "       [1., 0., 0., ..., 0., 0., 0.],\n",
       "       [1., 0., 0., ..., 0., 0., 0.],\n",
       "       ...,\n",
       "       [0., 0., 0., ..., 0., 0., 1.],\n",
       "       [0., 0., 0., ..., 0., 0., 1.],\n",
       "       [0., 0., 0., ..., 0., 0., 1.]])"
      ]
     },
     "execution_count": 9,
     "metadata": {},
     "output_type": "execute_result"
    }
   ],
   "source": [
    "from tensorflow.keras.utils import to_categorical\n",
    "labels = to_categorical(labels,num_classes = len(classes)) # Converting labels to one-hot encoding\n",
    "labels"
   ]
  },
  {
   "cell_type": "markdown",
   "metadata": {
    "id": "jD7kvOg9VH0u"
   },
   "source": [
    "\n",
    "\n",
    "# Splitting of Dataset"
   ]
  },
  {
   "cell_type": "code",
   "execution_count": 10,
   "metadata": {
    "executionInfo": {
     "elapsed": 861,
     "status": "ok",
     "timestamp": 1734526541012,
     "user": {
      "displayName": "24/AFI/09 SUJYOTI JHA",
      "userId": "14757572772141335405"
     },
     "user_tz": -330
    },
    "id": "hra0zhG5VDpz"
   },
   "outputs": [],
   "source": [
    "from sklearn.model_selection import train_test_split\n",
    "X_train,X_test,Y_train,Y_test = train_test_split(data,labels,test_size=0.2,random_state=42)"
   ]
  },
  {
   "cell_type": "code",
   "execution_count": 11,
   "metadata": {
    "executionInfo": {
     "elapsed": 390,
     "status": "ok",
     "timestamp": 1734526542970,
     "user": {
      "displayName": "24/AFI/09 SUJYOTI JHA",
      "userId": "14757572772141335405"
     },
     "user_tz": -330
    },
    "id": "gXnrVwAIVDno"
   },
   "outputs": [],
   "source": [
    "model = tf.keras.models.Sequential()"
   ]
  },
  {
   "cell_type": "code",
   "execution_count": 12,
   "metadata": {
    "colab": {
     "base_uri": "https://localhost:8080/"
    },
    "executionInfo": {
     "elapsed": 421,
     "status": "ok",
     "timestamp": 1734526545468,
     "user": {
      "displayName": "24/AFI/09 SUJYOTI JHA",
      "userId": "14757572772141335405"
     },
     "user_tz": -330
    },
    "id": "I-J3WNK7VDlK",
    "outputId": "6f529377-317a-4d80-f790-631fe431ec71"
   },
   "outputs": [
    {
     "data": {
      "text/plain": [
       "(150, 150, 1)"
      ]
     },
     "execution_count": 12,
     "metadata": {},
     "output_type": "execute_result"
    }
   ],
   "source": [
    "X_train[0].shape"
   ]
  },
  {
   "cell_type": "code",
   "execution_count": 13,
   "metadata": {
    "colab": {
     "base_uri": "https://localhost:8080/"
    },
    "executionInfo": {
     "elapsed": 2606,
     "status": "ok",
     "timestamp": 1734526549703,
     "user": {
      "displayName": "24/AFI/09 SUJYOTI JHA",
      "userId": "14757572772141335405"
     },
     "user_tz": -330
    },
    "id": "qBUU2l9LVDio",
    "outputId": "2f26aaf5-8daf-408b-e3f3-18f54a6ece99"
   },
   "outputs": [
    {
     "name": "stderr",
     "output_type": "stream",
     "text": [
      "/usr/local/lib/python3.10/dist-packages/keras/src/layers/convolutional/base_conv.py:107: UserWarning: Do not pass an `input_shape`/`input_dim` argument to a layer. When using Sequential models, prefer using an `Input(shape)` object as the first layer in the model instead.\n",
      "  super().__init__(activity_regularizer=activity_regularizer, **kwargs)\n"
     ]
    }
   ],
   "source": [
    "model.add(Conv2D(filters=32,kernel_size=3,padding='same',activation='relu',input_shape=X_train[0].shape))\n",
    "model.add(Conv2D(filters=32,kernel_size=3,activation='relu'))\n",
    "model.add(MaxPool2D(pool_size=2,strides=2))"
   ]
  },
  {
   "cell_type": "code",
   "execution_count": 14,
   "metadata": {
    "executionInfo": {
     "elapsed": 420,
     "status": "ok",
     "timestamp": 1734526551497,
     "user": {
      "displayName": "24/AFI/09 SUJYOTI JHA",
      "userId": "14757572772141335405"
     },
     "user_tz": -330
    },
    "id": "ED1Eme6PVDf5"
   },
   "outputs": [],
   "source": [
    "model.add(Conv2D(filters=64,kernel_size=3,padding='same',activation='relu'))\n",
    "model.add(Conv2D(filters=64,kernel_size=3,activation='relu'))\n",
    "model.add(MaxPool2D(pool_size=2,strides=2))"
   ]
  },
  {
   "cell_type": "code",
   "execution_count": 15,
   "metadata": {
    "executionInfo": {
     "elapsed": 441,
     "status": "ok",
     "timestamp": 1734526553351,
     "user": {
      "displayName": "24/AFI/09 SUJYOTI JHA",
      "userId": "14757572772141335405"
     },
     "user_tz": -330
    },
    "id": "WKz5JabiVDdZ"
   },
   "outputs": [],
   "source": [
    "model.add(Conv2D(filters=128,kernel_size=3,padding='same',activation='relu'))\n",
    "model.add(Conv2D(filters=128,kernel_size=3,activation='relu'))\n",
    "model.add(MaxPool2D(pool_size=2,strides=2))"
   ]
  },
  {
   "cell_type": "code",
   "execution_count": 16,
   "metadata": {
    "executionInfo": {
     "elapsed": 407,
     "status": "ok",
     "timestamp": 1734526555172,
     "user": {
      "displayName": "24/AFI/09 SUJYOTI JHA",
      "userId": "14757572772141335405"
     },
     "user_tz": -330
    },
    "id": "Ik-qp0zHVDav"
   },
   "outputs": [],
   "source": [
    "model.add(Dropout(0.3))"
   ]
  },
  {
   "cell_type": "code",
   "execution_count": 17,
   "metadata": {
    "executionInfo": {
     "elapsed": 4,
     "status": "ok",
     "timestamp": 1734526557026,
     "user": {
      "displayName": "24/AFI/09 SUJYOTI JHA",
      "userId": "14757572772141335405"
     },
     "user_tz": -330
    },
    "id": "DRSISpLrVDYG"
   },
   "outputs": [],
   "source": [
    "model.add(Conv2D(filters=256,kernel_size=3,padding='same',activation='relu'))\n",
    "model.add(Conv2D(filters=256,kernel_size=3,activation='relu'))\n",
    "model.add(MaxPool2D(pool_size=2,strides=2))"
   ]
  },
  {
   "cell_type": "code",
   "execution_count": 18,
   "metadata": {
    "executionInfo": {
     "elapsed": 415,
     "status": "ok",
     "timestamp": 1734526559497,
     "user": {
      "displayName": "24/AFI/09 SUJYOTI JHA",
      "userId": "14757572772141335405"
     },
     "user_tz": -330
    },
    "id": "38_klrpOVDVa"
   },
   "outputs": [],
   "source": [
    "model.add(Conv2D(filters=512,kernel_size=3,padding='same',activation='relu'))\n",
    "model.add(Conv2D(filters=512,kernel_size=3,activation='relu'))\n",
    "model.add(MaxPool2D(pool_size=2,strides=2))"
   ]
  },
  {
   "cell_type": "code",
   "execution_count": 19,
   "metadata": {
    "executionInfo": {
     "elapsed": 2,
     "status": "ok",
     "timestamp": 1734526560951,
     "user": {
      "displayName": "24/AFI/09 SUJYOTI JHA",
      "userId": "14757572772141335405"
     },
     "user_tz": -330
    },
    "id": "kFL52l_OVDS_"
   },
   "outputs": [],
   "source": [
    "model.add(Dropout(0.3))"
   ]
  },
  {
   "cell_type": "code",
   "execution_count": 20,
   "metadata": {
    "executionInfo": {
     "elapsed": 377,
     "status": "ok",
     "timestamp": 1734526562747,
     "user": {
      "displayName": "24/AFI/09 SUJYOTI JHA",
      "userId": "14757572772141335405"
     },
     "user_tz": -330
    },
    "id": "ejZWiz1fV7Oa"
   },
   "outputs": [],
   "source": [
    "model.add(Flatten())"
   ]
  },
  {
   "cell_type": "code",
   "execution_count": 21,
   "metadata": {
    "executionInfo": {
     "elapsed": 407,
     "status": "ok",
     "timestamp": 1734526564517,
     "user": {
      "displayName": "24/AFI/09 SUJYOTI JHA",
      "userId": "14757572772141335405"
     },
     "user_tz": -330
    },
    "id": "DvOnmll5VDPC"
   },
   "outputs": [],
   "source": [
    "model.add(Dropout(0.45))"
   ]
  },
  {
   "cell_type": "code",
   "execution_count": 22,
   "metadata": {
    "executionInfo": {
     "elapsed": 2,
     "status": "ok",
     "timestamp": 1734526566152,
     "user": {
      "displayName": "24/AFI/09 SUJYOTI JHA",
      "userId": "14757572772141335405"
     },
     "user_tz": -330
    },
    "id": "XA89p2opVDNe"
   },
   "outputs": [],
   "source": [
    "#Output layer\n",
    "model.add(Dense(units=len(classes),activation='softmax'))"
   ]
  },
  {
   "cell_type": "code",
   "execution_count": 23,
   "metadata": {
    "colab": {
     "base_uri": "https://localhost:8080/",
     "height": 769
    },
    "executionInfo": {
     "elapsed": 448,
     "status": "ok",
     "timestamp": 1734526568852,
     "user": {
      "displayName": "24/AFI/09 SUJYOTI JHA",
      "userId": "14757572772141335405"
     },
     "user_tz": -330
    },
    "id": "H8WnxEMFVDFK",
    "outputId": "e6b58441-477e-49fc-f387-2952723d9f19"
   },
   "outputs": [
    {
     "data": {
      "text/html": [
       "<pre style=\"white-space:pre;overflow-x:auto;line-height:normal;font-family:Menlo,'DejaVu Sans Mono',consolas,'Courier New',monospace\"><span style=\"font-weight: bold\">Model: \"sequential\"</span>\n",
       "</pre>\n"
      ],
      "text/plain": [
       "\u001b[1mModel: \"sequential\"\u001b[0m\n"
      ]
     },
     "metadata": {},
     "output_type": "display_data"
    },
    {
     "data": {
      "text/html": [
       "<pre style=\"white-space:pre;overflow-x:auto;line-height:normal;font-family:Menlo,'DejaVu Sans Mono',consolas,'Courier New',monospace\">┏━━━━━━━━━━━━━━━━━━━━━━━━━━━━━━━━━━━━━━┳━━━━━━━━━━━━━━━━━━━━━━━━━━━━━┳━━━━━━━━━━━━━━━━━┓\n",
       "┃<span style=\"font-weight: bold\"> Layer (type)                         </span>┃<span style=\"font-weight: bold\"> Output Shape                </span>┃<span style=\"font-weight: bold\">         Param # </span>┃\n",
       "┡━━━━━━━━━━━━━━━━━━━━━━━━━━━━━━━━━━━━━━╇━━━━━━━━━━━━━━━━━━━━━━━━━━━━━╇━━━━━━━━━━━━━━━━━┩\n",
       "│ conv2d (<span style=\"color: #0087ff; text-decoration-color: #0087ff\">Conv2D</span>)                      │ (<span style=\"color: #00d7ff; text-decoration-color: #00d7ff\">None</span>, <span style=\"color: #00af00; text-decoration-color: #00af00\">150</span>, <span style=\"color: #00af00; text-decoration-color: #00af00\">150</span>, <span style=\"color: #00af00; text-decoration-color: #00af00\">32</span>)        │             <span style=\"color: #00af00; text-decoration-color: #00af00\">320</span> │\n",
       "├──────────────────────────────────────┼─────────────────────────────┼─────────────────┤\n",
       "│ conv2d_1 (<span style=\"color: #0087ff; text-decoration-color: #0087ff\">Conv2D</span>)                    │ (<span style=\"color: #00d7ff; text-decoration-color: #00d7ff\">None</span>, <span style=\"color: #00af00; text-decoration-color: #00af00\">148</span>, <span style=\"color: #00af00; text-decoration-color: #00af00\">148</span>, <span style=\"color: #00af00; text-decoration-color: #00af00\">32</span>)        │           <span style=\"color: #00af00; text-decoration-color: #00af00\">9,248</span> │\n",
       "├──────────────────────────────────────┼─────────────────────────────┼─────────────────┤\n",
       "│ max_pooling2d (<span style=\"color: #0087ff; text-decoration-color: #0087ff\">MaxPooling2D</span>)         │ (<span style=\"color: #00d7ff; text-decoration-color: #00d7ff\">None</span>, <span style=\"color: #00af00; text-decoration-color: #00af00\">74</span>, <span style=\"color: #00af00; text-decoration-color: #00af00\">74</span>, <span style=\"color: #00af00; text-decoration-color: #00af00\">32</span>)          │               <span style=\"color: #00af00; text-decoration-color: #00af00\">0</span> │\n",
       "├──────────────────────────────────────┼─────────────────────────────┼─────────────────┤\n",
       "│ conv2d_2 (<span style=\"color: #0087ff; text-decoration-color: #0087ff\">Conv2D</span>)                    │ (<span style=\"color: #00d7ff; text-decoration-color: #00d7ff\">None</span>, <span style=\"color: #00af00; text-decoration-color: #00af00\">74</span>, <span style=\"color: #00af00; text-decoration-color: #00af00\">74</span>, <span style=\"color: #00af00; text-decoration-color: #00af00\">64</span>)          │          <span style=\"color: #00af00; text-decoration-color: #00af00\">18,496</span> │\n",
       "├──────────────────────────────────────┼─────────────────────────────┼─────────────────┤\n",
       "│ conv2d_3 (<span style=\"color: #0087ff; text-decoration-color: #0087ff\">Conv2D</span>)                    │ (<span style=\"color: #00d7ff; text-decoration-color: #00d7ff\">None</span>, <span style=\"color: #00af00; text-decoration-color: #00af00\">72</span>, <span style=\"color: #00af00; text-decoration-color: #00af00\">72</span>, <span style=\"color: #00af00; text-decoration-color: #00af00\">64</span>)          │          <span style=\"color: #00af00; text-decoration-color: #00af00\">36,928</span> │\n",
       "├──────────────────────────────────────┼─────────────────────────────┼─────────────────┤\n",
       "│ max_pooling2d_1 (<span style=\"color: #0087ff; text-decoration-color: #0087ff\">MaxPooling2D</span>)       │ (<span style=\"color: #00d7ff; text-decoration-color: #00d7ff\">None</span>, <span style=\"color: #00af00; text-decoration-color: #00af00\">36</span>, <span style=\"color: #00af00; text-decoration-color: #00af00\">36</span>, <span style=\"color: #00af00; text-decoration-color: #00af00\">64</span>)          │               <span style=\"color: #00af00; text-decoration-color: #00af00\">0</span> │\n",
       "├──────────────────────────────────────┼─────────────────────────────┼─────────────────┤\n",
       "│ conv2d_4 (<span style=\"color: #0087ff; text-decoration-color: #0087ff\">Conv2D</span>)                    │ (<span style=\"color: #00d7ff; text-decoration-color: #00d7ff\">None</span>, <span style=\"color: #00af00; text-decoration-color: #00af00\">36</span>, <span style=\"color: #00af00; text-decoration-color: #00af00\">36</span>, <span style=\"color: #00af00; text-decoration-color: #00af00\">128</span>)         │          <span style=\"color: #00af00; text-decoration-color: #00af00\">73,856</span> │\n",
       "├──────────────────────────────────────┼─────────────────────────────┼─────────────────┤\n",
       "│ conv2d_5 (<span style=\"color: #0087ff; text-decoration-color: #0087ff\">Conv2D</span>)                    │ (<span style=\"color: #00d7ff; text-decoration-color: #00d7ff\">None</span>, <span style=\"color: #00af00; text-decoration-color: #00af00\">34</span>, <span style=\"color: #00af00; text-decoration-color: #00af00\">34</span>, <span style=\"color: #00af00; text-decoration-color: #00af00\">128</span>)         │         <span style=\"color: #00af00; text-decoration-color: #00af00\">147,584</span> │\n",
       "├──────────────────────────────────────┼─────────────────────────────┼─────────────────┤\n",
       "│ max_pooling2d_2 (<span style=\"color: #0087ff; text-decoration-color: #0087ff\">MaxPooling2D</span>)       │ (<span style=\"color: #00d7ff; text-decoration-color: #00d7ff\">None</span>, <span style=\"color: #00af00; text-decoration-color: #00af00\">17</span>, <span style=\"color: #00af00; text-decoration-color: #00af00\">17</span>, <span style=\"color: #00af00; text-decoration-color: #00af00\">128</span>)         │               <span style=\"color: #00af00; text-decoration-color: #00af00\">0</span> │\n",
       "├──────────────────────────────────────┼─────────────────────────────┼─────────────────┤\n",
       "│ dropout (<span style=\"color: #0087ff; text-decoration-color: #0087ff\">Dropout</span>)                    │ (<span style=\"color: #00d7ff; text-decoration-color: #00d7ff\">None</span>, <span style=\"color: #00af00; text-decoration-color: #00af00\">17</span>, <span style=\"color: #00af00; text-decoration-color: #00af00\">17</span>, <span style=\"color: #00af00; text-decoration-color: #00af00\">128</span>)         │               <span style=\"color: #00af00; text-decoration-color: #00af00\">0</span> │\n",
       "├──────────────────────────────────────┼─────────────────────────────┼─────────────────┤\n",
       "│ conv2d_6 (<span style=\"color: #0087ff; text-decoration-color: #0087ff\">Conv2D</span>)                    │ (<span style=\"color: #00d7ff; text-decoration-color: #00d7ff\">None</span>, <span style=\"color: #00af00; text-decoration-color: #00af00\">17</span>, <span style=\"color: #00af00; text-decoration-color: #00af00\">17</span>, <span style=\"color: #00af00; text-decoration-color: #00af00\">256</span>)         │         <span style=\"color: #00af00; text-decoration-color: #00af00\">295,168</span> │\n",
       "├──────────────────────────────────────┼─────────────────────────────┼─────────────────┤\n",
       "│ conv2d_7 (<span style=\"color: #0087ff; text-decoration-color: #0087ff\">Conv2D</span>)                    │ (<span style=\"color: #00d7ff; text-decoration-color: #00d7ff\">None</span>, <span style=\"color: #00af00; text-decoration-color: #00af00\">15</span>, <span style=\"color: #00af00; text-decoration-color: #00af00\">15</span>, <span style=\"color: #00af00; text-decoration-color: #00af00\">256</span>)         │         <span style=\"color: #00af00; text-decoration-color: #00af00\">590,080</span> │\n",
       "├──────────────────────────────────────┼─────────────────────────────┼─────────────────┤\n",
       "│ max_pooling2d_3 (<span style=\"color: #0087ff; text-decoration-color: #0087ff\">MaxPooling2D</span>)       │ (<span style=\"color: #00d7ff; text-decoration-color: #00d7ff\">None</span>, <span style=\"color: #00af00; text-decoration-color: #00af00\">7</span>, <span style=\"color: #00af00; text-decoration-color: #00af00\">7</span>, <span style=\"color: #00af00; text-decoration-color: #00af00\">256</span>)           │               <span style=\"color: #00af00; text-decoration-color: #00af00\">0</span> │\n",
       "├──────────────────────────────────────┼─────────────────────────────┼─────────────────┤\n",
       "│ conv2d_8 (<span style=\"color: #0087ff; text-decoration-color: #0087ff\">Conv2D</span>)                    │ (<span style=\"color: #00d7ff; text-decoration-color: #00d7ff\">None</span>, <span style=\"color: #00af00; text-decoration-color: #00af00\">7</span>, <span style=\"color: #00af00; text-decoration-color: #00af00\">7</span>, <span style=\"color: #00af00; text-decoration-color: #00af00\">512</span>)           │       <span style=\"color: #00af00; text-decoration-color: #00af00\">1,180,160</span> │\n",
       "├──────────────────────────────────────┼─────────────────────────────┼─────────────────┤\n",
       "│ conv2d_9 (<span style=\"color: #0087ff; text-decoration-color: #0087ff\">Conv2D</span>)                    │ (<span style=\"color: #00d7ff; text-decoration-color: #00d7ff\">None</span>, <span style=\"color: #00af00; text-decoration-color: #00af00\">5</span>, <span style=\"color: #00af00; text-decoration-color: #00af00\">5</span>, <span style=\"color: #00af00; text-decoration-color: #00af00\">512</span>)           │       <span style=\"color: #00af00; text-decoration-color: #00af00\">2,359,808</span> │\n",
       "├──────────────────────────────────────┼─────────────────────────────┼─────────────────┤\n",
       "│ max_pooling2d_4 (<span style=\"color: #0087ff; text-decoration-color: #0087ff\">MaxPooling2D</span>)       │ (<span style=\"color: #00d7ff; text-decoration-color: #00d7ff\">None</span>, <span style=\"color: #00af00; text-decoration-color: #00af00\">2</span>, <span style=\"color: #00af00; text-decoration-color: #00af00\">2</span>, <span style=\"color: #00af00; text-decoration-color: #00af00\">512</span>)           │               <span style=\"color: #00af00; text-decoration-color: #00af00\">0</span> │\n",
       "├──────────────────────────────────────┼─────────────────────────────┼─────────────────┤\n",
       "│ dropout_1 (<span style=\"color: #0087ff; text-decoration-color: #0087ff\">Dropout</span>)                  │ (<span style=\"color: #00d7ff; text-decoration-color: #00d7ff\">None</span>, <span style=\"color: #00af00; text-decoration-color: #00af00\">2</span>, <span style=\"color: #00af00; text-decoration-color: #00af00\">2</span>, <span style=\"color: #00af00; text-decoration-color: #00af00\">512</span>)           │               <span style=\"color: #00af00; text-decoration-color: #00af00\">0</span> │\n",
       "├──────────────────────────────────────┼─────────────────────────────┼─────────────────┤\n",
       "│ flatten (<span style=\"color: #0087ff; text-decoration-color: #0087ff\">Flatten</span>)                    │ (<span style=\"color: #00d7ff; text-decoration-color: #00d7ff\">None</span>, <span style=\"color: #00af00; text-decoration-color: #00af00\">2048</span>)                │               <span style=\"color: #00af00; text-decoration-color: #00af00\">0</span> │\n",
       "├──────────────────────────────────────┼─────────────────────────────┼─────────────────┤\n",
       "│ dropout_2 (<span style=\"color: #0087ff; text-decoration-color: #0087ff\">Dropout</span>)                  │ (<span style=\"color: #00d7ff; text-decoration-color: #00d7ff\">None</span>, <span style=\"color: #00af00; text-decoration-color: #00af00\">2048</span>)                │               <span style=\"color: #00af00; text-decoration-color: #00af00\">0</span> │\n",
       "├──────────────────────────────────────┼─────────────────────────────┼─────────────────┤\n",
       "│ dense (<span style=\"color: #0087ff; text-decoration-color: #0087ff\">Dense</span>)                        │ (<span style=\"color: #00d7ff; text-decoration-color: #00d7ff\">None</span>, <span style=\"color: #00af00; text-decoration-color: #00af00\">10</span>)                  │          <span style=\"color: #00af00; text-decoration-color: #00af00\">20,490</span> │\n",
       "└──────────────────────────────────────┴─────────────────────────────┴─────────────────┘\n",
       "</pre>\n"
      ],
      "text/plain": [
       "┏━━━━━━━━━━━━━━━━━━━━━━━━━━━━━━━━━━━━━━┳━━━━━━━━━━━━━━━━━━━━━━━━━━━━━┳━━━━━━━━━━━━━━━━━┓\n",
       "┃\u001b[1m \u001b[0m\u001b[1mLayer (type)                        \u001b[0m\u001b[1m \u001b[0m┃\u001b[1m \u001b[0m\u001b[1mOutput Shape               \u001b[0m\u001b[1m \u001b[0m┃\u001b[1m \u001b[0m\u001b[1m        Param #\u001b[0m\u001b[1m \u001b[0m┃\n",
       "┡━━━━━━━━━━━━━━━━━━━━━━━━━━━━━━━━━━━━━━╇━━━━━━━━━━━━━━━━━━━━━━━━━━━━━╇━━━━━━━━━━━━━━━━━┩\n",
       "│ conv2d (\u001b[38;5;33mConv2D\u001b[0m)                      │ (\u001b[38;5;45mNone\u001b[0m, \u001b[38;5;34m150\u001b[0m, \u001b[38;5;34m150\u001b[0m, \u001b[38;5;34m32\u001b[0m)        │             \u001b[38;5;34m320\u001b[0m │\n",
       "├──────────────────────────────────────┼─────────────────────────────┼─────────────────┤\n",
       "│ conv2d_1 (\u001b[38;5;33mConv2D\u001b[0m)                    │ (\u001b[38;5;45mNone\u001b[0m, \u001b[38;5;34m148\u001b[0m, \u001b[38;5;34m148\u001b[0m, \u001b[38;5;34m32\u001b[0m)        │           \u001b[38;5;34m9,248\u001b[0m │\n",
       "├──────────────────────────────────────┼─────────────────────────────┼─────────────────┤\n",
       "│ max_pooling2d (\u001b[38;5;33mMaxPooling2D\u001b[0m)         │ (\u001b[38;5;45mNone\u001b[0m, \u001b[38;5;34m74\u001b[0m, \u001b[38;5;34m74\u001b[0m, \u001b[38;5;34m32\u001b[0m)          │               \u001b[38;5;34m0\u001b[0m │\n",
       "├──────────────────────────────────────┼─────────────────────────────┼─────────────────┤\n",
       "│ conv2d_2 (\u001b[38;5;33mConv2D\u001b[0m)                    │ (\u001b[38;5;45mNone\u001b[0m, \u001b[38;5;34m74\u001b[0m, \u001b[38;5;34m74\u001b[0m, \u001b[38;5;34m64\u001b[0m)          │          \u001b[38;5;34m18,496\u001b[0m │\n",
       "├──────────────────────────────────────┼─────────────────────────────┼─────────────────┤\n",
       "│ conv2d_3 (\u001b[38;5;33mConv2D\u001b[0m)                    │ (\u001b[38;5;45mNone\u001b[0m, \u001b[38;5;34m72\u001b[0m, \u001b[38;5;34m72\u001b[0m, \u001b[38;5;34m64\u001b[0m)          │          \u001b[38;5;34m36,928\u001b[0m │\n",
       "├──────────────────────────────────────┼─────────────────────────────┼─────────────────┤\n",
       "│ max_pooling2d_1 (\u001b[38;5;33mMaxPooling2D\u001b[0m)       │ (\u001b[38;5;45mNone\u001b[0m, \u001b[38;5;34m36\u001b[0m, \u001b[38;5;34m36\u001b[0m, \u001b[38;5;34m64\u001b[0m)          │               \u001b[38;5;34m0\u001b[0m │\n",
       "├──────────────────────────────────────┼─────────────────────────────┼─────────────────┤\n",
       "│ conv2d_4 (\u001b[38;5;33mConv2D\u001b[0m)                    │ (\u001b[38;5;45mNone\u001b[0m, \u001b[38;5;34m36\u001b[0m, \u001b[38;5;34m36\u001b[0m, \u001b[38;5;34m128\u001b[0m)         │          \u001b[38;5;34m73,856\u001b[0m │\n",
       "├──────────────────────────────────────┼─────────────────────────────┼─────────────────┤\n",
       "│ conv2d_5 (\u001b[38;5;33mConv2D\u001b[0m)                    │ (\u001b[38;5;45mNone\u001b[0m, \u001b[38;5;34m34\u001b[0m, \u001b[38;5;34m34\u001b[0m, \u001b[38;5;34m128\u001b[0m)         │         \u001b[38;5;34m147,584\u001b[0m │\n",
       "├──────────────────────────────────────┼─────────────────────────────┼─────────────────┤\n",
       "│ max_pooling2d_2 (\u001b[38;5;33mMaxPooling2D\u001b[0m)       │ (\u001b[38;5;45mNone\u001b[0m, \u001b[38;5;34m17\u001b[0m, \u001b[38;5;34m17\u001b[0m, \u001b[38;5;34m128\u001b[0m)         │               \u001b[38;5;34m0\u001b[0m │\n",
       "├──────────────────────────────────────┼─────────────────────────────┼─────────────────┤\n",
       "│ dropout (\u001b[38;5;33mDropout\u001b[0m)                    │ (\u001b[38;5;45mNone\u001b[0m, \u001b[38;5;34m17\u001b[0m, \u001b[38;5;34m17\u001b[0m, \u001b[38;5;34m128\u001b[0m)         │               \u001b[38;5;34m0\u001b[0m │\n",
       "├──────────────────────────────────────┼─────────────────────────────┼─────────────────┤\n",
       "│ conv2d_6 (\u001b[38;5;33mConv2D\u001b[0m)                    │ (\u001b[38;5;45mNone\u001b[0m, \u001b[38;5;34m17\u001b[0m, \u001b[38;5;34m17\u001b[0m, \u001b[38;5;34m256\u001b[0m)         │         \u001b[38;5;34m295,168\u001b[0m │\n",
       "├──────────────────────────────────────┼─────────────────────────────┼─────────────────┤\n",
       "│ conv2d_7 (\u001b[38;5;33mConv2D\u001b[0m)                    │ (\u001b[38;5;45mNone\u001b[0m, \u001b[38;5;34m15\u001b[0m, \u001b[38;5;34m15\u001b[0m, \u001b[38;5;34m256\u001b[0m)         │         \u001b[38;5;34m590,080\u001b[0m │\n",
       "├──────────────────────────────────────┼─────────────────────────────┼─────────────────┤\n",
       "│ max_pooling2d_3 (\u001b[38;5;33mMaxPooling2D\u001b[0m)       │ (\u001b[38;5;45mNone\u001b[0m, \u001b[38;5;34m7\u001b[0m, \u001b[38;5;34m7\u001b[0m, \u001b[38;5;34m256\u001b[0m)           │               \u001b[38;5;34m0\u001b[0m │\n",
       "├──────────────────────────────────────┼─────────────────────────────┼─────────────────┤\n",
       "│ conv2d_8 (\u001b[38;5;33mConv2D\u001b[0m)                    │ (\u001b[38;5;45mNone\u001b[0m, \u001b[38;5;34m7\u001b[0m, \u001b[38;5;34m7\u001b[0m, \u001b[38;5;34m512\u001b[0m)           │       \u001b[38;5;34m1,180,160\u001b[0m │\n",
       "├──────────────────────────────────────┼─────────────────────────────┼─────────────────┤\n",
       "│ conv2d_9 (\u001b[38;5;33mConv2D\u001b[0m)                    │ (\u001b[38;5;45mNone\u001b[0m, \u001b[38;5;34m5\u001b[0m, \u001b[38;5;34m5\u001b[0m, \u001b[38;5;34m512\u001b[0m)           │       \u001b[38;5;34m2,359,808\u001b[0m │\n",
       "├──────────────────────────────────────┼─────────────────────────────┼─────────────────┤\n",
       "│ max_pooling2d_4 (\u001b[38;5;33mMaxPooling2D\u001b[0m)       │ (\u001b[38;5;45mNone\u001b[0m, \u001b[38;5;34m2\u001b[0m, \u001b[38;5;34m2\u001b[0m, \u001b[38;5;34m512\u001b[0m)           │               \u001b[38;5;34m0\u001b[0m │\n",
       "├──────────────────────────────────────┼─────────────────────────────┼─────────────────┤\n",
       "│ dropout_1 (\u001b[38;5;33mDropout\u001b[0m)                  │ (\u001b[38;5;45mNone\u001b[0m, \u001b[38;5;34m2\u001b[0m, \u001b[38;5;34m2\u001b[0m, \u001b[38;5;34m512\u001b[0m)           │               \u001b[38;5;34m0\u001b[0m │\n",
       "├──────────────────────────────────────┼─────────────────────────────┼─────────────────┤\n",
       "│ flatten (\u001b[38;5;33mFlatten\u001b[0m)                    │ (\u001b[38;5;45mNone\u001b[0m, \u001b[38;5;34m2048\u001b[0m)                │               \u001b[38;5;34m0\u001b[0m │\n",
       "├──────────────────────────────────────┼─────────────────────────────┼─────────────────┤\n",
       "│ dropout_2 (\u001b[38;5;33mDropout\u001b[0m)                  │ (\u001b[38;5;45mNone\u001b[0m, \u001b[38;5;34m2048\u001b[0m)                │               \u001b[38;5;34m0\u001b[0m │\n",
       "├──────────────────────────────────────┼─────────────────────────────┼─────────────────┤\n",
       "│ dense (\u001b[38;5;33mDense\u001b[0m)                        │ (\u001b[38;5;45mNone\u001b[0m, \u001b[38;5;34m10\u001b[0m)                  │          \u001b[38;5;34m20,490\u001b[0m │\n",
       "└──────────────────────────────────────┴─────────────────────────────┴─────────────────┘\n"
      ]
     },
     "metadata": {},
     "output_type": "display_data"
    },
    {
     "data": {
      "text/html": [
       "<pre style=\"white-space:pre;overflow-x:auto;line-height:normal;font-family:Menlo,'DejaVu Sans Mono',consolas,'Courier New',monospace\"><span style=\"font-weight: bold\"> Total params: </span><span style=\"color: #00af00; text-decoration-color: #00af00\">4,732,138</span> (18.05 MB)\n",
       "</pre>\n"
      ],
      "text/plain": [
       "\u001b[1m Total params: \u001b[0m\u001b[38;5;34m4,732,138\u001b[0m (18.05 MB)\n"
      ]
     },
     "metadata": {},
     "output_type": "display_data"
    },
    {
     "data": {
      "text/html": [
       "<pre style=\"white-space:pre;overflow-x:auto;line-height:normal;font-family:Menlo,'DejaVu Sans Mono',consolas,'Courier New',monospace\"><span style=\"font-weight: bold\"> Trainable params: </span><span style=\"color: #00af00; text-decoration-color: #00af00\">4,732,138</span> (18.05 MB)\n",
       "</pre>\n"
      ],
      "text/plain": [
       "\u001b[1m Trainable params: \u001b[0m\u001b[38;5;34m4,732,138\u001b[0m (18.05 MB)\n"
      ]
     },
     "metadata": {},
     "output_type": "display_data"
    },
    {
     "data": {
      "text/html": [
       "<pre style=\"white-space:pre;overflow-x:auto;line-height:normal;font-family:Menlo,'DejaVu Sans Mono',consolas,'Courier New',monospace\"><span style=\"font-weight: bold\"> Non-trainable params: </span><span style=\"color: #00af00; text-decoration-color: #00af00\">0</span> (0.00 B)\n",
       "</pre>\n"
      ],
      "text/plain": [
       "\u001b[1m Non-trainable params: \u001b[0m\u001b[38;5;34m0\u001b[0m (0.00 B)\n"
      ]
     },
     "metadata": {},
     "output_type": "display_data"
    }
   ],
   "source": [
    "model.summary()"
   ]
  },
  {
   "cell_type": "code",
   "execution_count": 24,
   "metadata": {
    "executionInfo": {
     "elapsed": 382,
     "status": "ok",
     "timestamp": 1734526575140,
     "user": {
      "displayName": "24/AFI/09 SUJYOTI JHA",
      "userId": "14757572772141335405"
     },
     "user_tz": -330
    },
    "id": "sEY_AcyIVC8J"
   },
   "outputs": [],
   "source": [
    "#Compile the model\n",
    "# Import Adam directly from tensorflow.keras.optimizers\n",
    "from tensorflow.keras.optimizers import Adam\n",
    "\n",
    "model.compile(optimizer=Adam(learning_rate=0.0001),loss='categorical_crossentropy',metrics=['accuracy'])"
   ]
  },
  {
   "cell_type": "code",
   "execution_count": 25,
   "metadata": {
    "colab": {
     "base_uri": "https://localhost:8080/"
    },
    "executionInfo": {
     "elapsed": 1220128,
     "status": "ok",
     "timestamp": 1734527799254,
     "user": {
      "displayName": "24/AFI/09 SUJYOTI JHA",
      "userId": "14757572772141335405"
     },
     "user_tz": -330
    },
    "id": "BfYPuqBoW5PD",
    "outputId": "9d1cf5c5-47c6-4023-f391-b5c837e8bddd"
   },
   "outputs": [
    {
     "name": "stdout",
     "output_type": "stream",
     "text": [
      "Epoch 1/30\n",
      "\u001b[1m375/375\u001b[0m \u001b[32m━━━━━━━━━━━━━━━━━━━━\u001b[0m\u001b[37m\u001b[0m \u001b[1m64s\u001b[0m 130ms/step - accuracy: 0.1809 - loss: 2.2037 - val_accuracy: 0.3669 - val_loss: 1.7765\n",
      "Epoch 2/30\n",
      "\u001b[1m375/375\u001b[0m \u001b[32m━━━━━━━━━━━━━━━━━━━━\u001b[0m\u001b[37m\u001b[0m \u001b[1m50s\u001b[0m 79ms/step - accuracy: 0.3969 - loss: 1.6972 - val_accuracy: 0.5259 - val_loss: 1.3654\n",
      "Epoch 3/30\n",
      "\u001b[1m375/375\u001b[0m \u001b[32m━━━━━━━━━━━━━━━━━━━━\u001b[0m\u001b[37m\u001b[0m \u001b[1m41s\u001b[0m 80ms/step - accuracy: 0.5360 - loss: 1.3382 - val_accuracy: 0.6367 - val_loss: 1.0691\n",
      "Epoch 4/30\n",
      "\u001b[1m375/375\u001b[0m \u001b[32m━━━━━━━━━━━━━━━━━━━━\u001b[0m\u001b[37m\u001b[0m \u001b[1m40s\u001b[0m 77ms/step - accuracy: 0.6362 - loss: 1.0744 - val_accuracy: 0.6855 - val_loss: 0.9557\n",
      "Epoch 5/30\n",
      "\u001b[1m375/375\u001b[0m \u001b[32m━━━━━━━━━━━━━━━━━━━━\u001b[0m\u001b[37m\u001b[0m \u001b[1m41s\u001b[0m 77ms/step - accuracy: 0.6753 - loss: 0.9381 - val_accuracy: 0.6942 - val_loss: 0.8924\n",
      "Epoch 6/30\n",
      "\u001b[1m375/375\u001b[0m \u001b[32m━━━━━━━━━━━━━━━━━━━━\u001b[0m\u001b[37m\u001b[0m \u001b[1m43s\u001b[0m 83ms/step - accuracy: 0.7228 - loss: 0.8207 - val_accuracy: 0.7526 - val_loss: 0.7552\n",
      "Epoch 7/30\n",
      "\u001b[1m375/375\u001b[0m \u001b[32m━━━━━━━━━━━━━━━━━━━━\u001b[0m\u001b[37m\u001b[0m \u001b[1m30s\u001b[0m 80ms/step - accuracy: 0.7600 - loss: 0.7301 - val_accuracy: 0.7766 - val_loss: 0.7123\n",
      "Epoch 8/30\n",
      "\u001b[1m375/375\u001b[0m \u001b[32m━━━━━━━━━━━━━━━━━━━━\u001b[0m\u001b[37m\u001b[0m \u001b[1m41s\u001b[0m 79ms/step - accuracy: 0.7938 - loss: 0.6161 - val_accuracy: 0.8050 - val_loss: 0.5901\n",
      "Epoch 9/30\n",
      "\u001b[1m375/375\u001b[0m \u001b[32m━━━━━━━━━━━━━━━━━━━━\u001b[0m\u001b[37m\u001b[0m \u001b[1m41s\u001b[0m 80ms/step - accuracy: 0.8178 - loss: 0.5405 - val_accuracy: 0.7599 - val_loss: 0.7363\n",
      "Epoch 10/30\n",
      "\u001b[1m375/375\u001b[0m \u001b[32m━━━━━━━━━━━━━━━━━━━━\u001b[0m\u001b[37m\u001b[0m \u001b[1m30s\u001b[0m 79ms/step - accuracy: 0.8364 - loss: 0.4875 - val_accuracy: 0.8237 - val_loss: 0.5410\n",
      "Epoch 11/30\n",
      "\u001b[1m375/375\u001b[0m \u001b[32m━━━━━━━━━━━━━━━━━━━━\u001b[0m\u001b[37m\u001b[0m \u001b[1m40s\u001b[0m 77ms/step - accuracy: 0.8651 - loss: 0.4037 - val_accuracy: 0.7987 - val_loss: 0.6134\n",
      "Epoch 12/30\n",
      "\u001b[1m375/375\u001b[0m \u001b[32m━━━━━━━━━━━━━━━━━━━━\u001b[0m\u001b[37m\u001b[0m \u001b[1m42s\u001b[0m 80ms/step - accuracy: 0.8760 - loss: 0.3941 - val_accuracy: 0.8367 - val_loss: 0.5121\n",
      "Epoch 13/30\n",
      "\u001b[1m375/375\u001b[0m \u001b[32m━━━━━━━━━━━━━━━━━━━━\u001b[0m\u001b[37m\u001b[0m \u001b[1m41s\u001b[0m 80ms/step - accuracy: 0.8931 - loss: 0.3311 - val_accuracy: 0.8337 - val_loss: 0.5423\n",
      "Epoch 14/30\n",
      "\u001b[1m375/375\u001b[0m \u001b[32m━━━━━━━━━━━━━━━━━━━━\u001b[0m\u001b[37m\u001b[0m \u001b[1m40s\u001b[0m 77ms/step - accuracy: 0.8972 - loss: 0.3116 - val_accuracy: 0.8658 - val_loss: 0.4268\n",
      "Epoch 15/30\n",
      "\u001b[1m375/375\u001b[0m \u001b[32m━━━━━━━━━━━━━━━━━━━━\u001b[0m\u001b[37m\u001b[0m \u001b[1m29s\u001b[0m 77ms/step - accuracy: 0.9070 - loss: 0.2930 - val_accuracy: 0.8745 - val_loss: 0.4259\n",
      "Epoch 16/30\n",
      "\u001b[1m375/375\u001b[0m \u001b[32m━━━━━━━━━━━━━━━━━━━━\u001b[0m\u001b[37m\u001b[0m \u001b[1m42s\u001b[0m 79ms/step - accuracy: 0.9162 - loss: 0.2550 - val_accuracy: 0.8641 - val_loss: 0.4921\n",
      "Epoch 17/30\n",
      "\u001b[1m375/375\u001b[0m \u001b[32m━━━━━━━━━━━━━━━━━━━━\u001b[0m\u001b[37m\u001b[0m \u001b[1m40s\u001b[0m 77ms/step - accuracy: 0.9308 - loss: 0.2114 - val_accuracy: 0.8674 - val_loss: 0.4502\n",
      "Epoch 18/30\n",
      "\u001b[1m375/375\u001b[0m \u001b[32m━━━━━━━━━━━━━━━━━━━━\u001b[0m\u001b[37m\u001b[0m \u001b[1m41s\u001b[0m 76ms/step - accuracy: 0.9369 - loss: 0.1898 - val_accuracy: 0.8778 - val_loss: 0.4012\n",
      "Epoch 19/30\n",
      "\u001b[1m375/375\u001b[0m \u001b[32m━━━━━━━━━━━━━━━━━━━━\u001b[0m\u001b[37m\u001b[0m \u001b[1m41s\u001b[0m 77ms/step - accuracy: 0.9430 - loss: 0.1723 - val_accuracy: 0.8421 - val_loss: 0.5341\n",
      "Epoch 20/30\n",
      "\u001b[1m375/375\u001b[0m \u001b[32m━━━━━━━━━━━━━━━━━━━━\u001b[0m\u001b[37m\u001b[0m \u001b[1m42s\u001b[0m 79ms/step - accuracy: 0.9432 - loss: 0.1688 - val_accuracy: 0.8922 - val_loss: 0.3605\n",
      "Epoch 21/30\n",
      "\u001b[1m375/375\u001b[0m \u001b[32m━━━━━━━━━━━━━━━━━━━━\u001b[0m\u001b[37m\u001b[0m \u001b[1m40s\u001b[0m 77ms/step - accuracy: 0.9526 - loss: 0.1408 - val_accuracy: 0.8992 - val_loss: 0.3330\n",
      "Epoch 22/30\n",
      "\u001b[1m375/375\u001b[0m \u001b[32m━━━━━━━━━━━━━━━━━━━━\u001b[0m\u001b[37m\u001b[0m \u001b[1m29s\u001b[0m 76ms/step - accuracy: 0.9583 - loss: 0.1308 - val_accuracy: 0.8558 - val_loss: 0.5533\n",
      "Epoch 23/30\n",
      "\u001b[1m375/375\u001b[0m \u001b[32m━━━━━━━━━━━━━━━━━━━━\u001b[0m\u001b[37m\u001b[0m \u001b[1m41s\u001b[0m 76ms/step - accuracy: 0.9612 - loss: 0.1192 - val_accuracy: 0.9022 - val_loss: 0.3935\n",
      "Epoch 24/30\n",
      "\u001b[1m375/375\u001b[0m \u001b[32m━━━━━━━━━━━━━━━━━━━━\u001b[0m\u001b[37m\u001b[0m \u001b[1m42s\u001b[0m 80ms/step - accuracy: 0.9657 - loss: 0.1035 - val_accuracy: 0.8828 - val_loss: 0.4341\n",
      "Epoch 25/30\n",
      "\u001b[1m375/375\u001b[0m \u001b[32m━━━━━━━━━━━━━━━━━━━━\u001b[0m\u001b[37m\u001b[0m \u001b[1m40s\u001b[0m 77ms/step - accuracy: 0.9590 - loss: 0.1231 - val_accuracy: 0.9022 - val_loss: 0.3460\n",
      "Epoch 26/30\n",
      "\u001b[1m375/375\u001b[0m \u001b[32m━━━━━━━━━━━━━━━━━━━━\u001b[0m\u001b[37m\u001b[0m \u001b[1m42s\u001b[0m 80ms/step - accuracy: 0.9643 - loss: 0.1051 - val_accuracy: 0.9102 - val_loss: 0.3361\n",
      "Epoch 27/30\n",
      "\u001b[1m375/375\u001b[0m \u001b[32m━━━━━━━━━━━━━━━━━━━━\u001b[0m\u001b[37m\u001b[0m \u001b[1m40s\u001b[0m 76ms/step - accuracy: 0.9702 - loss: 0.0884 - val_accuracy: 0.8855 - val_loss: 0.4376\n",
      "Epoch 28/30\n",
      "\u001b[1m375/375\u001b[0m \u001b[32m━━━━━━━━━━━━━━━━━━━━\u001b[0m\u001b[37m\u001b[0m \u001b[1m42s\u001b[0m 78ms/step - accuracy: 0.9653 - loss: 0.1026 - val_accuracy: 0.9125 - val_loss: 0.3424\n",
      "Epoch 29/30\n",
      "\u001b[1m375/375\u001b[0m \u001b[32m━━━━━━━━━━━━━━━━━━━━\u001b[0m\u001b[37m\u001b[0m \u001b[1m42s\u001b[0m 80ms/step - accuracy: 0.9739 - loss: 0.0763 - val_accuracy: 0.8988 - val_loss: 0.3887\n",
      "Epoch 30/30\n",
      "\u001b[1m375/375\u001b[0m \u001b[32m━━━━━━━━━━━━━━━━━━━━\u001b[0m\u001b[37m\u001b[0m \u001b[1m41s\u001b[0m 80ms/step - accuracy: 0.9768 - loss: 0.0695 - val_accuracy: 0.9129 - val_loss: 0.3819\n"
     ]
    }
   ],
   "source": [
    "#Training Model\n",
    "training_history = model.fit(X_train,Y_train,epochs=30,batch_size=32,validation_data=(X_test,Y_test))"
   ]
  },
  {
   "cell_type": "code",
   "execution_count": 26,
   "metadata": {
    "colab": {
     "base_uri": "https://localhost:8080/"
    },
    "executionInfo": {
     "elapsed": 407,
     "status": "ok",
     "timestamp": 1734528008189,
     "user": {
      "displayName": "24/AFI/09 SUJYOTI JHA",
      "userId": "14757572772141335405"
     },
     "user_tz": -330
    },
    "id": "W10TNHC-19UD",
    "outputId": "d3818a05-17e2-4db4-e403-6e4871a726fa"
   },
   "outputs": [
    {
     "name": "stderr",
     "output_type": "stream",
     "text": [
      "WARNING:absl:You are saving your model as an HDF5 file via `model.save()` or `keras.saving.save_model(model)`. This file format is considered legacy. We recommend using instead the native Keras format, e.g. `model.save('my_model.keras')` or `keras.saving.save_model(model, 'my_model.keras')`. \n"
     ]
    }
   ],
   "source": [
    "from tensorflow.keras.models import load_model\n",
    "model.save('/content/drive/MyDrive/Colab Notebooks/Music Genre Classification/saved models/Trained_model.h5')"
   ]
  },
  {
   "cell_type": "code",
   "execution_count": 28,
   "metadata": {
    "executionInfo": {
     "elapsed": 415,
     "status": "ok",
     "timestamp": 1734528101114,
     "user": {
      "displayName": "24/AFI/09 SUJYOTI JHA",
      "userId": "14757572772141335405"
     },
     "user_tz": -330
    },
    "id": "yHAgblZCZa7c"
   },
   "outputs": [],
   "source": [
    "model.save('/content/drive/MyDrive/Colab Notebooks/Music Genre Classification/saved models/Trained.keras')\n"
   ]
  },
  {
   "cell_type": "code",
   "execution_count": 31,
   "metadata": {
    "colab": {
     "base_uri": "https://localhost:8080/"
    },
    "executionInfo": {
     "elapsed": 3499,
     "status": "ok",
     "timestamp": 1734528156312,
     "user": {
      "displayName": "24/AFI/09 SUJYOTI JHA",
      "userId": "14757572772141335405"
     },
     "user_tz": -330
    },
    "id": "k61uZknQzF91",
    "outputId": "6b8a402c-6588-4a19-fdb0-21bf81971b27"
   },
   "outputs": [
    {
     "name": "stderr",
     "output_type": "stream",
     "text": [
      "WARNING:absl:Compiled the loaded model, but the compiled metrics have yet to be built. `model.compile_metrics` will be empty until you train or evaluate the model.\n"
     ]
    }
   ],
   "source": [
    "from keras.models import load_model\n",
    "model = load_model('/content/drive/MyDrive/Colab Notebooks/Music Genre Classification/saved models/Trained_model.h5')"
   ]
  },
  {
   "cell_type": "code",
   "execution_count": 32,
   "metadata": {
    "colab": {
     "base_uri": "https://localhost:8080/"
    },
    "executionInfo": {
     "elapsed": 389,
     "status": "ok",
     "timestamp": 1734528162583,
     "user": {
      "displayName": "24/AFI/09 SUJYOTI JHA",
      "userId": "14757572772141335405"
     },
     "user_tz": -330
    },
    "id": "4uJHCy67Z7zJ",
    "outputId": "3d508d7b-7838-46fe-bcdd-8d192fedd91c"
   },
   "outputs": [
    {
     "data": {
      "text/plain": [
       "{'accuracy': [0.23747913539409637,\n",
       "  0.4389816224575043,\n",
       "  0.5570951700210571,\n",
       "  0.6385642886161804,\n",
       "  0.6843071579933167,\n",
       "  0.7279632687568665,\n",
       "  0.7689482569694519,\n",
       "  0.7959933280944824,\n",
       "  0.8188647627830505,\n",
       "  0.8405675888061523,\n",
       "  0.8675292134284973,\n",
       "  0.8746243715286255,\n",
       "  0.8942403793334961,\n",
       "  0.9026710987091064,\n",
       "  0.9132721424102783,\n",
       "  0.9194490909576416,\n",
       "  0.9325542449951172,\n",
       "  0.936978280544281,\n",
       "  0.9373121857643127,\n",
       "  0.9497495889663696,\n",
       "  0.9513355493545532,\n",
       "  0.9585976600646973,\n",
       "  0.9580968022346497,\n",
       "  0.9608514308929443,\n",
       "  0.9627712965011597,\n",
       "  0.96652752161026,\n",
       "  0.9697829484939575,\n",
       "  0.970450758934021,\n",
       "  0.9714524149894714,\n",
       "  0.9747913479804993],\n",
       " 'loss': [2.062655448913574,\n",
       "  1.5994852781295776,\n",
       "  1.2772386074066162,\n",
       "  1.0668649673461914,\n",
       "  0.9269343614578247,\n",
       "  0.8075013756752014,\n",
       "  0.7051525712013245,\n",
       "  0.6155419945716858,\n",
       "  0.5425844788551331,\n",
       "  0.4790286123752594,\n",
       "  0.39906051754951477,\n",
       "  0.38348817825317383,\n",
       "  0.32742077112197876,\n",
       "  0.2956542372703552,\n",
       "  0.2650221884250641,\n",
       "  0.24341540038585663,\n",
       "  0.20562687516212463,\n",
       "  0.19039347767829895,\n",
       "  0.19205623865127563,\n",
       "  0.1512933373451233,\n",
       "  0.1478748321533203,\n",
       "  0.12424496561288834,\n",
       "  0.12990015745162964,\n",
       "  0.11470045149326324,\n",
       "  0.11891117691993713,\n",
       "  0.10019677877426147,\n",
       "  0.09743469208478928,\n",
       "  0.08865875005722046,\n",
       "  0.08854936808347702,\n",
       "  0.07509445399045944],\n",
       " 'val_accuracy': [0.36694490909576416,\n",
       "  0.5258764624595642,\n",
       "  0.6367278695106506,\n",
       "  0.685475766658783,\n",
       "  0.6941569447517395,\n",
       "  0.752587616443634,\n",
       "  0.7766277194023132,\n",
       "  0.8050083518028259,\n",
       "  0.7599332332611084,\n",
       "  0.8237061500549316,\n",
       "  0.7986644506454468,\n",
       "  0.8367278575897217,\n",
       "  0.8337228894233704,\n",
       "  0.8657763004302979,\n",
       "  0.8744574189186096,\n",
       "  0.8641068339347839,\n",
       "  0.8674457669258118,\n",
       "  0.8777963519096375,\n",
       "  0.8420701026916504,\n",
       "  0.8921535611152649,\n",
       "  0.8991652727127075,\n",
       "  0.8557596206665039,\n",
       "  0.9021703004837036,\n",
       "  0.8828046917915344,\n",
       "  0.9021703004837036,\n",
       "  0.9101836681365967,\n",
       "  0.8854758143424988,\n",
       "  0.9125208854675293,\n",
       "  0.8988313674926758,\n",
       "  0.9128547310829163],\n",
       " 'val_loss': [1.7765065431594849,\n",
       "  1.365373134613037,\n",
       "  1.0690630674362183,\n",
       "  0.9557346701622009,\n",
       "  0.8923909068107605,\n",
       "  0.7552258968353271,\n",
       "  0.7122796773910522,\n",
       "  0.5900972485542297,\n",
       "  0.7362906336784363,\n",
       "  0.5410022139549255,\n",
       "  0.6133965253829956,\n",
       "  0.5120929479598999,\n",
       "  0.5422831177711487,\n",
       "  0.42677009105682373,\n",
       "  0.42588111758232117,\n",
       "  0.4920903742313385,\n",
       "  0.45022690296173096,\n",
       "  0.4012496769428253,\n",
       "  0.5340575575828552,\n",
       "  0.3605303168296814,\n",
       "  0.33300313353538513,\n",
       "  0.5533351302146912,\n",
       "  0.39350560307502747,\n",
       "  0.4341227412223816,\n",
       "  0.3460250794887543,\n",
       "  0.3361426293849945,\n",
       "  0.43760624527931213,\n",
       "  0.3423578143119812,\n",
       "  0.38867661356925964,\n",
       "  0.3818768262863159]}"
      ]
     },
     "execution_count": 32,
     "metadata": {},
     "output_type": "execute_result"
    }
   ],
   "source": [
    "training_history.history"
   ]
  },
  {
   "cell_type": "code",
   "execution_count": null,
   "metadata": {
    "id": "5kI4SHMyaE_T"
   },
   "outputs": [],
   "source": [
    "#Recording History in json\n",
    "import json\n",
    "with open('training_hist.json','w') as f:\n",
    "  json.dump(training_history.history,f)"
   ]
  },
  {
   "cell_type": "code",
   "execution_count": 33,
   "metadata": {
    "colab": {
     "base_uri": "https://localhost:8080/"
    },
    "executionInfo": {
     "elapsed": 438,
     "status": "ok",
     "timestamp": 1734528167162,
     "user": {
      "displayName": "24/AFI/09 SUJYOTI JHA",
      "userId": "14757572772141335405"
     },
     "user_tz": -330
    },
    "id": "f5uXsUOlaG8J",
    "outputId": "1dc69ead-4880-4cc6-da0e-34e86a1ebd17"
   },
   "outputs": [
    {
     "data": {
      "text/plain": [
       "array([[[[2.16342449e+00],\n",
       "         [1.01336346e+01],\n",
       "         [1.44714069e+01],\n",
       "         ...,\n",
       "         [8.10373425e-01],\n",
       "         [4.94901717e-01],\n",
       "         [9.85581040e-01]],\n",
       "\n",
       "        [[2.08488865e+01],\n",
       "         [8.26843109e+01],\n",
       "         [7.97624969e+01],\n",
       "         ...,\n",
       "         [2.12929573e+01],\n",
       "         [8.74905777e+00],\n",
       "         [1.07430935e+01]],\n",
       "\n",
       "        [[5.15504608e+01],\n",
       "         [1.11120438e+02],\n",
       "         [8.40804062e+01],\n",
       "         ...,\n",
       "         [8.87450180e+01],\n",
       "         [2.84056721e+01],\n",
       "         [2.38014126e+01]],\n",
       "\n",
       "        ...,\n",
       "\n",
       "        [[1.55806309e-03],\n",
       "         [3.19159386e-04],\n",
       "         [1.54418331e-06],\n",
       "         ...,\n",
       "         [4.50833249e-06],\n",
       "         [3.89431407e-05],\n",
       "         [4.14071430e-04]],\n",
       "\n",
       "        [[1.54487253e-03],\n",
       "         [3.14586359e-04],\n",
       "         [8.00902882e-08],\n",
       "         ...,\n",
       "         [3.09359734e-07],\n",
       "         [3.36363519e-05],\n",
       "         [4.14549344e-04]],\n",
       "\n",
       "        [[1.54148787e-03],\n",
       "         [3.13779630e-04],\n",
       "         [1.00114672e-08],\n",
       "         ...,\n",
       "         [1.29747821e-08],\n",
       "         [3.31982192e-05],\n",
       "         [4.14071750e-04]]],\n",
       "\n",
       "\n",
       "       [[[2.02551305e-01],\n",
       "         [3.27289969e-01],\n",
       "         [2.63915569e-01],\n",
       "         ...,\n",
       "         [1.59343094e-01],\n",
       "         [1.07231259e-01],\n",
       "         [5.61059378e-02]],\n",
       "\n",
       "        [[9.45276171e-02],\n",
       "         [1.03384539e-01],\n",
       "         [1.06321745e-01],\n",
       "         ...,\n",
       "         [1.27605826e-01],\n",
       "         [1.16706721e-01],\n",
       "         [7.20904320e-02]],\n",
       "\n",
       "        [[3.10219247e-02],\n",
       "         [2.01704428e-02],\n",
       "         [2.75816601e-02],\n",
       "         ...,\n",
       "         [3.18895847e-01],\n",
       "         [9.95331466e-01],\n",
       "         [8.15297961e-01]],\n",
       "\n",
       "        ...,\n",
       "\n",
       "        [[2.50421181e-05],\n",
       "         [5.24026882e-06],\n",
       "         [1.81998686e-07],\n",
       "         ...,\n",
       "         [5.81567747e-07],\n",
       "         [1.19688355e-06],\n",
       "         [8.57610303e-06]],\n",
       "\n",
       "        [[2.49161858e-05],\n",
       "         [5.22512255e-06],\n",
       "         [1.86461733e-07],\n",
       "         ...,\n",
       "         [7.66529979e-07],\n",
       "         [1.24116661e-06],\n",
       "         [8.26364248e-06]],\n",
       "\n",
       "        [[2.53403650e-05],\n",
       "         [5.29700719e-06],\n",
       "         [1.64400475e-07],\n",
       "         ...,\n",
       "         [8.03064950e-07],\n",
       "         [1.19208494e-06],\n",
       "         [8.15385465e-06]]],\n",
       "\n",
       "\n",
       "       [[[4.15754795e+00],\n",
       "         [8.99626791e-01],\n",
       "         [5.48636556e-01],\n",
       "         ...,\n",
       "         [8.36293161e-01],\n",
       "         [4.06567633e-01],\n",
       "         [6.32832944e-02]],\n",
       "\n",
       "        [[2.26682873e+01],\n",
       "         [1.68884811e+01],\n",
       "         [1.24076338e+01],\n",
       "         ...,\n",
       "         [2.42799520e+00],\n",
       "         [2.03588390e+00],\n",
       "         [5.47649145e-01]],\n",
       "\n",
       "        [[6.29503021e+01],\n",
       "         [8.41516800e+01],\n",
       "         [6.83431931e+01],\n",
       "         ...,\n",
       "         [1.13129816e+01],\n",
       "         [1.56461334e+01],\n",
       "         [6.77541304e+00]],\n",
       "\n",
       "        ...,\n",
       "\n",
       "        [[3.74668132e-04],\n",
       "         [7.63892313e-05],\n",
       "         [8.79022082e-08],\n",
       "         ...,\n",
       "         [2.07425364e-06],\n",
       "         [1.76300875e-06],\n",
       "         [8.53615973e-07]],\n",
       "\n",
       "        [[3.81516758e-04],\n",
       "         [7.76986490e-05],\n",
       "         [1.43819872e-08],\n",
       "         ...,\n",
       "         [2.13773745e-07],\n",
       "         [1.66566551e-07],\n",
       "         [1.06716818e-07]],\n",
       "\n",
       "        [[3.81176797e-04],\n",
       "         [7.75851586e-05],\n",
       "         [5.33771916e-09],\n",
       "         ...,\n",
       "         [1.11473071e-08],\n",
       "         [1.16942251e-08],\n",
       "         [2.04920436e-08]]],\n",
       "\n",
       "\n",
       "       ...,\n",
       "\n",
       "\n",
       "       [[[3.37535620e+00],\n",
       "         [5.03029394e+00],\n",
       "         [4.95103598e+00],\n",
       "         ...,\n",
       "         [9.26299477e+00],\n",
       "         [6.96831179e+00],\n",
       "         [7.71654987e+00]],\n",
       "\n",
       "        [[1.40267305e+01],\n",
       "         [1.35013027e+01],\n",
       "         [1.39784908e+01],\n",
       "         ...,\n",
       "         [6.63654175e+01],\n",
       "         [2.25493317e+01],\n",
       "         [1.71011944e+01]],\n",
       "\n",
       "        [[2.38345871e+01],\n",
       "         [3.97502251e+01],\n",
       "         [4.26020546e+01],\n",
       "         ...,\n",
       "         [6.58982468e+01],\n",
       "         [2.36087933e+01],\n",
       "         [1.41323271e+01]],\n",
       "\n",
       "        ...,\n",
       "\n",
       "        [[2.78549647e-04],\n",
       "         [5.99499617e-05],\n",
       "         [7.72924614e-06],\n",
       "         ...,\n",
       "         [2.40487952e-06],\n",
       "         [5.24717907e-04],\n",
       "         [6.52894191e-03]],\n",
       "\n",
       "        [[2.75988685e-04],\n",
       "         [5.63409812e-05],\n",
       "         [3.99416706e-07],\n",
       "         ...,\n",
       "         [5.20939295e-07],\n",
       "         [5.17765526e-04],\n",
       "         [6.45463867e-03]],\n",
       "\n",
       "        [[2.75114988e-04],\n",
       "         [5.60627195e-05],\n",
       "         [6.05621864e-08],\n",
       "         ...,\n",
       "         [1.92993479e-08],\n",
       "         [5.13638952e-04],\n",
       "         [6.40470907e-03]]],\n",
       "\n",
       "\n",
       "       [[[3.31959277e-02],\n",
       "         [4.55731302e-02],\n",
       "         [1.53429527e-02],\n",
       "         ...,\n",
       "         [8.17811396e-03],\n",
       "         [1.32755917e-02],\n",
       "         [1.68469027e-01]],\n",
       "\n",
       "        [[9.23255980e-01],\n",
       "         [2.90267420e+00],\n",
       "         [3.91888833e+00],\n",
       "         ...,\n",
       "         [1.92999220e+00],\n",
       "         [1.85015023e+00],\n",
       "         [1.46463275e+00]],\n",
       "\n",
       "        [[2.42170167e+00],\n",
       "         [9.90859699e+00],\n",
       "         [1.75147896e+01],\n",
       "         ...,\n",
       "         [9.99201584e+00],\n",
       "         [6.29248762e+00],\n",
       "         [3.24701166e+00]],\n",
       "\n",
       "        ...,\n",
       "\n",
       "        [[3.82730330e-04],\n",
       "         [7.89988553e-05],\n",
       "         [6.25361679e-07],\n",
       "         ...,\n",
       "         [3.32673181e-07],\n",
       "         [4.65356698e-06],\n",
       "         [3.07372502e-05]],\n",
       "\n",
       "        [[3.80860787e-04],\n",
       "         [7.77710084e-05],\n",
       "         [1.40800552e-07],\n",
       "         ...,\n",
       "         [2.18941096e-08],\n",
       "         [2.27888654e-06],\n",
       "         [2.42395618e-05]],\n",
       "\n",
       "        [[3.80907004e-04],\n",
       "         [7.76460947e-05],\n",
       "         [6.54046151e-09],\n",
       "         ...,\n",
       "         [7.61622676e-09],\n",
       "         [1.85055740e-06],\n",
       "         [2.30528476e-05]]],\n",
       "\n",
       "\n",
       "       [[[1.35794923e-01],\n",
       "         [2.68293321e-01],\n",
       "         [3.80314648e-01],\n",
       "         ...,\n",
       "         [1.01789653e+00],\n",
       "         [1.00039864e+00],\n",
       "         [1.32852566e+00]],\n",
       "\n",
       "        [[2.61333108e-01],\n",
       "         [3.82789910e-01],\n",
       "         [3.80416721e-01],\n",
       "         ...,\n",
       "         [6.78164423e-01],\n",
       "         [4.52648997e-01],\n",
       "         [7.66318023e-01]],\n",
       "\n",
       "        [[2.23007485e-01],\n",
       "         [2.05770597e-01],\n",
       "         [1.62465960e-01],\n",
       "         ...,\n",
       "         [3.27595204e-01],\n",
       "         [2.12163523e-01],\n",
       "         [5.13994813e-01]],\n",
       "\n",
       "        ...,\n",
       "\n",
       "        [[5.22496970e-03],\n",
       "         [2.13380088e-03],\n",
       "         [7.91521103e-04],\n",
       "         ...,\n",
       "         [3.14501510e-03],\n",
       "         [1.53816584e-02],\n",
       "         [1.11093335e-01]],\n",
       "\n",
       "        [[5.69110038e-03],\n",
       "         [2.08795699e-03],\n",
       "         [5.14321495e-04],\n",
       "         ...,\n",
       "         [2.77678622e-03],\n",
       "         [1.10341981e-02],\n",
       "         [6.65297732e-02]],\n",
       "\n",
       "        [[8.00592825e-03],\n",
       "         [2.54561519e-03],\n",
       "         [4.17775824e-04],\n",
       "         ...,\n",
       "         [2.48043984e-03],\n",
       "         [8.84044822e-03],\n",
       "         [6.25836775e-02]]]], dtype=float32)"
      ]
     },
     "execution_count": 33,
     "metadata": {},
     "output_type": "execute_result"
    }
   ],
   "source": [
    "X_train"
   ]
  },
  {
   "cell_type": "code",
   "execution_count": 35,
   "metadata": {
    "colab": {
     "base_uri": "https://localhost:8080/",
     "height": 823
    },
    "executionInfo": {
     "elapsed": 718,
     "status": "ok",
     "timestamp": 1734528192457,
     "user": {
      "displayName": "24/AFI/09 SUJYOTI JHA",
      "userId": "14757572772141335405"
     },
     "user_tz": -330
    },
    "id": "fzs6jn-gaJsm",
    "outputId": "f56e7c0f-6993-4d78-b75b-a8335daa4ca3"
   },
   "outputs": [
    {
     "name": "stderr",
     "output_type": "stream",
     "text": [
      "WARNING:absl:Compiled the loaded model, but the compiled metrics have yet to be built. `model.compile_metrics` will be empty until you train or evaluate the model.\n"
     ]
    },
    {
     "data": {
      "text/html": [
       "<pre style=\"white-space:pre;overflow-x:auto;line-height:normal;font-family:Menlo,'DejaVu Sans Mono',consolas,'Courier New',monospace\"><span style=\"font-weight: bold\">Model: \"sequential\"</span>\n",
       "</pre>\n"
      ],
      "text/plain": [
       "\u001b[1mModel: \"sequential\"\u001b[0m\n"
      ]
     },
     "metadata": {},
     "output_type": "display_data"
    },
    {
     "data": {
      "text/html": [
       "<pre style=\"white-space:pre;overflow-x:auto;line-height:normal;font-family:Menlo,'DejaVu Sans Mono',consolas,'Courier New',monospace\">┏━━━━━━━━━━━━━━━━━━━━━━━━━━━━━━━━━━━━━━┳━━━━━━━━━━━━━━━━━━━━━━━━━━━━━┳━━━━━━━━━━━━━━━━━┓\n",
       "┃<span style=\"font-weight: bold\"> Layer (type)                         </span>┃<span style=\"font-weight: bold\"> Output Shape                </span>┃<span style=\"font-weight: bold\">         Param # </span>┃\n",
       "┡━━━━━━━━━━━━━━━━━━━━━━━━━━━━━━━━━━━━━━╇━━━━━━━━━━━━━━━━━━━━━━━━━━━━━╇━━━━━━━━━━━━━━━━━┩\n",
       "│ conv2d (<span style=\"color: #0087ff; text-decoration-color: #0087ff\">Conv2D</span>)                      │ (<span style=\"color: #00d7ff; text-decoration-color: #00d7ff\">None</span>, <span style=\"color: #00af00; text-decoration-color: #00af00\">150</span>, <span style=\"color: #00af00; text-decoration-color: #00af00\">150</span>, <span style=\"color: #00af00; text-decoration-color: #00af00\">32</span>)        │             <span style=\"color: #00af00; text-decoration-color: #00af00\">320</span> │\n",
       "├──────────────────────────────────────┼─────────────────────────────┼─────────────────┤\n",
       "│ conv2d_1 (<span style=\"color: #0087ff; text-decoration-color: #0087ff\">Conv2D</span>)                    │ (<span style=\"color: #00d7ff; text-decoration-color: #00d7ff\">None</span>, <span style=\"color: #00af00; text-decoration-color: #00af00\">148</span>, <span style=\"color: #00af00; text-decoration-color: #00af00\">148</span>, <span style=\"color: #00af00; text-decoration-color: #00af00\">32</span>)        │           <span style=\"color: #00af00; text-decoration-color: #00af00\">9,248</span> │\n",
       "├──────────────────────────────────────┼─────────────────────────────┼─────────────────┤\n",
       "│ max_pooling2d (<span style=\"color: #0087ff; text-decoration-color: #0087ff\">MaxPooling2D</span>)         │ (<span style=\"color: #00d7ff; text-decoration-color: #00d7ff\">None</span>, <span style=\"color: #00af00; text-decoration-color: #00af00\">74</span>, <span style=\"color: #00af00; text-decoration-color: #00af00\">74</span>, <span style=\"color: #00af00; text-decoration-color: #00af00\">32</span>)          │               <span style=\"color: #00af00; text-decoration-color: #00af00\">0</span> │\n",
       "├──────────────────────────────────────┼─────────────────────────────┼─────────────────┤\n",
       "│ conv2d_2 (<span style=\"color: #0087ff; text-decoration-color: #0087ff\">Conv2D</span>)                    │ (<span style=\"color: #00d7ff; text-decoration-color: #00d7ff\">None</span>, <span style=\"color: #00af00; text-decoration-color: #00af00\">74</span>, <span style=\"color: #00af00; text-decoration-color: #00af00\">74</span>, <span style=\"color: #00af00; text-decoration-color: #00af00\">64</span>)          │          <span style=\"color: #00af00; text-decoration-color: #00af00\">18,496</span> │\n",
       "├──────────────────────────────────────┼─────────────────────────────┼─────────────────┤\n",
       "│ conv2d_3 (<span style=\"color: #0087ff; text-decoration-color: #0087ff\">Conv2D</span>)                    │ (<span style=\"color: #00d7ff; text-decoration-color: #00d7ff\">None</span>, <span style=\"color: #00af00; text-decoration-color: #00af00\">72</span>, <span style=\"color: #00af00; text-decoration-color: #00af00\">72</span>, <span style=\"color: #00af00; text-decoration-color: #00af00\">64</span>)          │          <span style=\"color: #00af00; text-decoration-color: #00af00\">36,928</span> │\n",
       "├──────────────────────────────────────┼─────────────────────────────┼─────────────────┤\n",
       "│ max_pooling2d_1 (<span style=\"color: #0087ff; text-decoration-color: #0087ff\">MaxPooling2D</span>)       │ (<span style=\"color: #00d7ff; text-decoration-color: #00d7ff\">None</span>, <span style=\"color: #00af00; text-decoration-color: #00af00\">36</span>, <span style=\"color: #00af00; text-decoration-color: #00af00\">36</span>, <span style=\"color: #00af00; text-decoration-color: #00af00\">64</span>)          │               <span style=\"color: #00af00; text-decoration-color: #00af00\">0</span> │\n",
       "├──────────────────────────────────────┼─────────────────────────────┼─────────────────┤\n",
       "│ conv2d_4 (<span style=\"color: #0087ff; text-decoration-color: #0087ff\">Conv2D</span>)                    │ (<span style=\"color: #00d7ff; text-decoration-color: #00d7ff\">None</span>, <span style=\"color: #00af00; text-decoration-color: #00af00\">36</span>, <span style=\"color: #00af00; text-decoration-color: #00af00\">36</span>, <span style=\"color: #00af00; text-decoration-color: #00af00\">128</span>)         │          <span style=\"color: #00af00; text-decoration-color: #00af00\">73,856</span> │\n",
       "├──────────────────────────────────────┼─────────────────────────────┼─────────────────┤\n",
       "│ conv2d_5 (<span style=\"color: #0087ff; text-decoration-color: #0087ff\">Conv2D</span>)                    │ (<span style=\"color: #00d7ff; text-decoration-color: #00d7ff\">None</span>, <span style=\"color: #00af00; text-decoration-color: #00af00\">34</span>, <span style=\"color: #00af00; text-decoration-color: #00af00\">34</span>, <span style=\"color: #00af00; text-decoration-color: #00af00\">128</span>)         │         <span style=\"color: #00af00; text-decoration-color: #00af00\">147,584</span> │\n",
       "├──────────────────────────────────────┼─────────────────────────────┼─────────────────┤\n",
       "│ max_pooling2d_2 (<span style=\"color: #0087ff; text-decoration-color: #0087ff\">MaxPooling2D</span>)       │ (<span style=\"color: #00d7ff; text-decoration-color: #00d7ff\">None</span>, <span style=\"color: #00af00; text-decoration-color: #00af00\">17</span>, <span style=\"color: #00af00; text-decoration-color: #00af00\">17</span>, <span style=\"color: #00af00; text-decoration-color: #00af00\">128</span>)         │               <span style=\"color: #00af00; text-decoration-color: #00af00\">0</span> │\n",
       "├──────────────────────────────────────┼─────────────────────────────┼─────────────────┤\n",
       "│ dropout (<span style=\"color: #0087ff; text-decoration-color: #0087ff\">Dropout</span>)                    │ (<span style=\"color: #00d7ff; text-decoration-color: #00d7ff\">None</span>, <span style=\"color: #00af00; text-decoration-color: #00af00\">17</span>, <span style=\"color: #00af00; text-decoration-color: #00af00\">17</span>, <span style=\"color: #00af00; text-decoration-color: #00af00\">128</span>)         │               <span style=\"color: #00af00; text-decoration-color: #00af00\">0</span> │\n",
       "├──────────────────────────────────────┼─────────────────────────────┼─────────────────┤\n",
       "│ conv2d_6 (<span style=\"color: #0087ff; text-decoration-color: #0087ff\">Conv2D</span>)                    │ (<span style=\"color: #00d7ff; text-decoration-color: #00d7ff\">None</span>, <span style=\"color: #00af00; text-decoration-color: #00af00\">17</span>, <span style=\"color: #00af00; text-decoration-color: #00af00\">17</span>, <span style=\"color: #00af00; text-decoration-color: #00af00\">256</span>)         │         <span style=\"color: #00af00; text-decoration-color: #00af00\">295,168</span> │\n",
       "├──────────────────────────────────────┼─────────────────────────────┼─────────────────┤\n",
       "│ conv2d_7 (<span style=\"color: #0087ff; text-decoration-color: #0087ff\">Conv2D</span>)                    │ (<span style=\"color: #00d7ff; text-decoration-color: #00d7ff\">None</span>, <span style=\"color: #00af00; text-decoration-color: #00af00\">15</span>, <span style=\"color: #00af00; text-decoration-color: #00af00\">15</span>, <span style=\"color: #00af00; text-decoration-color: #00af00\">256</span>)         │         <span style=\"color: #00af00; text-decoration-color: #00af00\">590,080</span> │\n",
       "├──────────────────────────────────────┼─────────────────────────────┼─────────────────┤\n",
       "│ max_pooling2d_3 (<span style=\"color: #0087ff; text-decoration-color: #0087ff\">MaxPooling2D</span>)       │ (<span style=\"color: #00d7ff; text-decoration-color: #00d7ff\">None</span>, <span style=\"color: #00af00; text-decoration-color: #00af00\">7</span>, <span style=\"color: #00af00; text-decoration-color: #00af00\">7</span>, <span style=\"color: #00af00; text-decoration-color: #00af00\">256</span>)           │               <span style=\"color: #00af00; text-decoration-color: #00af00\">0</span> │\n",
       "├──────────────────────────────────────┼─────────────────────────────┼─────────────────┤\n",
       "│ conv2d_8 (<span style=\"color: #0087ff; text-decoration-color: #0087ff\">Conv2D</span>)                    │ (<span style=\"color: #00d7ff; text-decoration-color: #00d7ff\">None</span>, <span style=\"color: #00af00; text-decoration-color: #00af00\">7</span>, <span style=\"color: #00af00; text-decoration-color: #00af00\">7</span>, <span style=\"color: #00af00; text-decoration-color: #00af00\">512</span>)           │       <span style=\"color: #00af00; text-decoration-color: #00af00\">1,180,160</span> │\n",
       "├──────────────────────────────────────┼─────────────────────────────┼─────────────────┤\n",
       "│ conv2d_9 (<span style=\"color: #0087ff; text-decoration-color: #0087ff\">Conv2D</span>)                    │ (<span style=\"color: #00d7ff; text-decoration-color: #00d7ff\">None</span>, <span style=\"color: #00af00; text-decoration-color: #00af00\">5</span>, <span style=\"color: #00af00; text-decoration-color: #00af00\">5</span>, <span style=\"color: #00af00; text-decoration-color: #00af00\">512</span>)           │       <span style=\"color: #00af00; text-decoration-color: #00af00\">2,359,808</span> │\n",
       "├──────────────────────────────────────┼─────────────────────────────┼─────────────────┤\n",
       "│ max_pooling2d_4 (<span style=\"color: #0087ff; text-decoration-color: #0087ff\">MaxPooling2D</span>)       │ (<span style=\"color: #00d7ff; text-decoration-color: #00d7ff\">None</span>, <span style=\"color: #00af00; text-decoration-color: #00af00\">2</span>, <span style=\"color: #00af00; text-decoration-color: #00af00\">2</span>, <span style=\"color: #00af00; text-decoration-color: #00af00\">512</span>)           │               <span style=\"color: #00af00; text-decoration-color: #00af00\">0</span> │\n",
       "├──────────────────────────────────────┼─────────────────────────────┼─────────────────┤\n",
       "│ dropout_1 (<span style=\"color: #0087ff; text-decoration-color: #0087ff\">Dropout</span>)                  │ (<span style=\"color: #00d7ff; text-decoration-color: #00d7ff\">None</span>, <span style=\"color: #00af00; text-decoration-color: #00af00\">2</span>, <span style=\"color: #00af00; text-decoration-color: #00af00\">2</span>, <span style=\"color: #00af00; text-decoration-color: #00af00\">512</span>)           │               <span style=\"color: #00af00; text-decoration-color: #00af00\">0</span> │\n",
       "├──────────────────────────────────────┼─────────────────────────────┼─────────────────┤\n",
       "│ flatten (<span style=\"color: #0087ff; text-decoration-color: #0087ff\">Flatten</span>)                    │ (<span style=\"color: #00d7ff; text-decoration-color: #00d7ff\">None</span>, <span style=\"color: #00af00; text-decoration-color: #00af00\">2048</span>)                │               <span style=\"color: #00af00; text-decoration-color: #00af00\">0</span> │\n",
       "├──────────────────────────────────────┼─────────────────────────────┼─────────────────┤\n",
       "│ dropout_2 (<span style=\"color: #0087ff; text-decoration-color: #0087ff\">Dropout</span>)                  │ (<span style=\"color: #00d7ff; text-decoration-color: #00d7ff\">None</span>, <span style=\"color: #00af00; text-decoration-color: #00af00\">2048</span>)                │               <span style=\"color: #00af00; text-decoration-color: #00af00\">0</span> │\n",
       "├──────────────────────────────────────┼─────────────────────────────┼─────────────────┤\n",
       "│ dense (<span style=\"color: #0087ff; text-decoration-color: #0087ff\">Dense</span>)                        │ (<span style=\"color: #00d7ff; text-decoration-color: #00d7ff\">None</span>, <span style=\"color: #00af00; text-decoration-color: #00af00\">10</span>)                  │          <span style=\"color: #00af00; text-decoration-color: #00af00\">20,490</span> │\n",
       "└──────────────────────────────────────┴─────────────────────────────┴─────────────────┘\n",
       "</pre>\n"
      ],
      "text/plain": [
       "┏━━━━━━━━━━━━━━━━━━━━━━━━━━━━━━━━━━━━━━┳━━━━━━━━━━━━━━━━━━━━━━━━━━━━━┳━━━━━━━━━━━━━━━━━┓\n",
       "┃\u001b[1m \u001b[0m\u001b[1mLayer (type)                        \u001b[0m\u001b[1m \u001b[0m┃\u001b[1m \u001b[0m\u001b[1mOutput Shape               \u001b[0m\u001b[1m \u001b[0m┃\u001b[1m \u001b[0m\u001b[1m        Param #\u001b[0m\u001b[1m \u001b[0m┃\n",
       "┡━━━━━━━━━━━━━━━━━━━━━━━━━━━━━━━━━━━━━━╇━━━━━━━━━━━━━━━━━━━━━━━━━━━━━╇━━━━━━━━━━━━━━━━━┩\n",
       "│ conv2d (\u001b[38;5;33mConv2D\u001b[0m)                      │ (\u001b[38;5;45mNone\u001b[0m, \u001b[38;5;34m150\u001b[0m, \u001b[38;5;34m150\u001b[0m, \u001b[38;5;34m32\u001b[0m)        │             \u001b[38;5;34m320\u001b[0m │\n",
       "├──────────────────────────────────────┼─────────────────────────────┼─────────────────┤\n",
       "│ conv2d_1 (\u001b[38;5;33mConv2D\u001b[0m)                    │ (\u001b[38;5;45mNone\u001b[0m, \u001b[38;5;34m148\u001b[0m, \u001b[38;5;34m148\u001b[0m, \u001b[38;5;34m32\u001b[0m)        │           \u001b[38;5;34m9,248\u001b[0m │\n",
       "├──────────────────────────────────────┼─────────────────────────────┼─────────────────┤\n",
       "│ max_pooling2d (\u001b[38;5;33mMaxPooling2D\u001b[0m)         │ (\u001b[38;5;45mNone\u001b[0m, \u001b[38;5;34m74\u001b[0m, \u001b[38;5;34m74\u001b[0m, \u001b[38;5;34m32\u001b[0m)          │               \u001b[38;5;34m0\u001b[0m │\n",
       "├──────────────────────────────────────┼─────────────────────────────┼─────────────────┤\n",
       "│ conv2d_2 (\u001b[38;5;33mConv2D\u001b[0m)                    │ (\u001b[38;5;45mNone\u001b[0m, \u001b[38;5;34m74\u001b[0m, \u001b[38;5;34m74\u001b[0m, \u001b[38;5;34m64\u001b[0m)          │          \u001b[38;5;34m18,496\u001b[0m │\n",
       "├──────────────────────────────────────┼─────────────────────────────┼─────────────────┤\n",
       "│ conv2d_3 (\u001b[38;5;33mConv2D\u001b[0m)                    │ (\u001b[38;5;45mNone\u001b[0m, \u001b[38;5;34m72\u001b[0m, \u001b[38;5;34m72\u001b[0m, \u001b[38;5;34m64\u001b[0m)          │          \u001b[38;5;34m36,928\u001b[0m │\n",
       "├──────────────────────────────────────┼─────────────────────────────┼─────────────────┤\n",
       "│ max_pooling2d_1 (\u001b[38;5;33mMaxPooling2D\u001b[0m)       │ (\u001b[38;5;45mNone\u001b[0m, \u001b[38;5;34m36\u001b[0m, \u001b[38;5;34m36\u001b[0m, \u001b[38;5;34m64\u001b[0m)          │               \u001b[38;5;34m0\u001b[0m │\n",
       "├──────────────────────────────────────┼─────────────────────────────┼─────────────────┤\n",
       "│ conv2d_4 (\u001b[38;5;33mConv2D\u001b[0m)                    │ (\u001b[38;5;45mNone\u001b[0m, \u001b[38;5;34m36\u001b[0m, \u001b[38;5;34m36\u001b[0m, \u001b[38;5;34m128\u001b[0m)         │          \u001b[38;5;34m73,856\u001b[0m │\n",
       "├──────────────────────────────────────┼─────────────────────────────┼─────────────────┤\n",
       "│ conv2d_5 (\u001b[38;5;33mConv2D\u001b[0m)                    │ (\u001b[38;5;45mNone\u001b[0m, \u001b[38;5;34m34\u001b[0m, \u001b[38;5;34m34\u001b[0m, \u001b[38;5;34m128\u001b[0m)         │         \u001b[38;5;34m147,584\u001b[0m │\n",
       "├──────────────────────────────────────┼─────────────────────────────┼─────────────────┤\n",
       "│ max_pooling2d_2 (\u001b[38;5;33mMaxPooling2D\u001b[0m)       │ (\u001b[38;5;45mNone\u001b[0m, \u001b[38;5;34m17\u001b[0m, \u001b[38;5;34m17\u001b[0m, \u001b[38;5;34m128\u001b[0m)         │               \u001b[38;5;34m0\u001b[0m │\n",
       "├──────────────────────────────────────┼─────────────────────────────┼─────────────────┤\n",
       "│ dropout (\u001b[38;5;33mDropout\u001b[0m)                    │ (\u001b[38;5;45mNone\u001b[0m, \u001b[38;5;34m17\u001b[0m, \u001b[38;5;34m17\u001b[0m, \u001b[38;5;34m128\u001b[0m)         │               \u001b[38;5;34m0\u001b[0m │\n",
       "├──────────────────────────────────────┼─────────────────────────────┼─────────────────┤\n",
       "│ conv2d_6 (\u001b[38;5;33mConv2D\u001b[0m)                    │ (\u001b[38;5;45mNone\u001b[0m, \u001b[38;5;34m17\u001b[0m, \u001b[38;5;34m17\u001b[0m, \u001b[38;5;34m256\u001b[0m)         │         \u001b[38;5;34m295,168\u001b[0m │\n",
       "├──────────────────────────────────────┼─────────────────────────────┼─────────────────┤\n",
       "│ conv2d_7 (\u001b[38;5;33mConv2D\u001b[0m)                    │ (\u001b[38;5;45mNone\u001b[0m, \u001b[38;5;34m15\u001b[0m, \u001b[38;5;34m15\u001b[0m, \u001b[38;5;34m256\u001b[0m)         │         \u001b[38;5;34m590,080\u001b[0m │\n",
       "├──────────────────────────────────────┼─────────────────────────────┼─────────────────┤\n",
       "│ max_pooling2d_3 (\u001b[38;5;33mMaxPooling2D\u001b[0m)       │ (\u001b[38;5;45mNone\u001b[0m, \u001b[38;5;34m7\u001b[0m, \u001b[38;5;34m7\u001b[0m, \u001b[38;5;34m256\u001b[0m)           │               \u001b[38;5;34m0\u001b[0m │\n",
       "├──────────────────────────────────────┼─────────────────────────────┼─────────────────┤\n",
       "│ conv2d_8 (\u001b[38;5;33mConv2D\u001b[0m)                    │ (\u001b[38;5;45mNone\u001b[0m, \u001b[38;5;34m7\u001b[0m, \u001b[38;5;34m7\u001b[0m, \u001b[38;5;34m512\u001b[0m)           │       \u001b[38;5;34m1,180,160\u001b[0m │\n",
       "├──────────────────────────────────────┼─────────────────────────────┼─────────────────┤\n",
       "│ conv2d_9 (\u001b[38;5;33mConv2D\u001b[0m)                    │ (\u001b[38;5;45mNone\u001b[0m, \u001b[38;5;34m5\u001b[0m, \u001b[38;5;34m5\u001b[0m, \u001b[38;5;34m512\u001b[0m)           │       \u001b[38;5;34m2,359,808\u001b[0m │\n",
       "├──────────────────────────────────────┼─────────────────────────────┼─────────────────┤\n",
       "│ max_pooling2d_4 (\u001b[38;5;33mMaxPooling2D\u001b[0m)       │ (\u001b[38;5;45mNone\u001b[0m, \u001b[38;5;34m2\u001b[0m, \u001b[38;5;34m2\u001b[0m, \u001b[38;5;34m512\u001b[0m)           │               \u001b[38;5;34m0\u001b[0m │\n",
       "├──────────────────────────────────────┼─────────────────────────────┼─────────────────┤\n",
       "│ dropout_1 (\u001b[38;5;33mDropout\u001b[0m)                  │ (\u001b[38;5;45mNone\u001b[0m, \u001b[38;5;34m2\u001b[0m, \u001b[38;5;34m2\u001b[0m, \u001b[38;5;34m512\u001b[0m)           │               \u001b[38;5;34m0\u001b[0m │\n",
       "├──────────────────────────────────────┼─────────────────────────────┼─────────────────┤\n",
       "│ flatten (\u001b[38;5;33mFlatten\u001b[0m)                    │ (\u001b[38;5;45mNone\u001b[0m, \u001b[38;5;34m2048\u001b[0m)                │               \u001b[38;5;34m0\u001b[0m │\n",
       "├──────────────────────────────────────┼─────────────────────────────┼─────────────────┤\n",
       "│ dropout_2 (\u001b[38;5;33mDropout\u001b[0m)                  │ (\u001b[38;5;45mNone\u001b[0m, \u001b[38;5;34m2048\u001b[0m)                │               \u001b[38;5;34m0\u001b[0m │\n",
       "├──────────────────────────────────────┼─────────────────────────────┼─────────────────┤\n",
       "│ dense (\u001b[38;5;33mDense\u001b[0m)                        │ (\u001b[38;5;45mNone\u001b[0m, \u001b[38;5;34m10\u001b[0m)                  │          \u001b[38;5;34m20,490\u001b[0m │\n",
       "└──────────────────────────────────────┴─────────────────────────────┴─────────────────┘\n"
      ]
     },
     "metadata": {},
     "output_type": "display_data"
    },
    {
     "data": {
      "text/html": [
       "<pre style=\"white-space:pre;overflow-x:auto;line-height:normal;font-family:Menlo,'DejaVu Sans Mono',consolas,'Courier New',monospace\"><span style=\"font-weight: bold\"> Total params: </span><span style=\"color: #00af00; text-decoration-color: #00af00\">4,732,140</span> (18.05 MB)\n",
       "</pre>\n"
      ],
      "text/plain": [
       "\u001b[1m Total params: \u001b[0m\u001b[38;5;34m4,732,140\u001b[0m (18.05 MB)\n"
      ]
     },
     "metadata": {},
     "output_type": "display_data"
    },
    {
     "data": {
      "text/html": [
       "<pre style=\"white-space:pre;overflow-x:auto;line-height:normal;font-family:Menlo,'DejaVu Sans Mono',consolas,'Courier New',monospace\"><span style=\"font-weight: bold\"> Trainable params: </span><span style=\"color: #00af00; text-decoration-color: #00af00\">4,732,138</span> (18.05 MB)\n",
       "</pre>\n"
      ],
      "text/plain": [
       "\u001b[1m Trainable params: \u001b[0m\u001b[38;5;34m4,732,138\u001b[0m (18.05 MB)\n"
      ]
     },
     "metadata": {},
     "output_type": "display_data"
    },
    {
     "data": {
      "text/html": [
       "<pre style=\"white-space:pre;overflow-x:auto;line-height:normal;font-family:Menlo,'DejaVu Sans Mono',consolas,'Courier New',monospace\"><span style=\"font-weight: bold\"> Non-trainable params: </span><span style=\"color: #00af00; text-decoration-color: #00af00\">0</span> (0.00 B)\n",
       "</pre>\n"
      ],
      "text/plain": [
       "\u001b[1m Non-trainable params: \u001b[0m\u001b[38;5;34m0\u001b[0m (0.00 B)\n"
      ]
     },
     "metadata": {},
     "output_type": "display_data"
    },
    {
     "data": {
      "text/html": [
       "<pre style=\"white-space:pre;overflow-x:auto;line-height:normal;font-family:Menlo,'DejaVu Sans Mono',consolas,'Courier New',monospace\"><span style=\"font-weight: bold\"> Optimizer params: </span><span style=\"color: #00af00; text-decoration-color: #00af00\">2</span> (12.00 B)\n",
       "</pre>\n"
      ],
      "text/plain": [
       "\u001b[1m Optimizer params: \u001b[0m\u001b[38;5;34m2\u001b[0m (12.00 B)\n"
      ]
     },
     "metadata": {},
     "output_type": "display_data"
    }
   ],
   "source": [
    "#Reloading model variable\n",
    "model = tf.keras.models.load_model('/content/drive/MyDrive/Colab Notebooks/Music Genre Classification/saved models/Trained_model.h5')\n",
    "model.summary()"
   ]
  },
  {
   "cell_type": "code",
   "execution_count": 40,
   "metadata": {
    "executionInfo": {
     "elapsed": 415,
     "status": "ok",
     "timestamp": 1734528425900,
     "user": {
      "displayName": "24/AFI/09 SUJYOTI JHA",
      "userId": "14757572772141335405"
     },
     "user_tz": -330
    },
    "id": "DlVxL46eafZ7"
   },
   "outputs": [],
   "source": [
    "#Recording History in json\n",
    "import json\n",
    "# Make sure the path is correct and the file is saved in this location\n",
    "file_path = '/content/drive/MyDrive/Colab Notebooks/Music Genre Classification/saved models/training_hist.json'\n",
    "with open(file_path, 'w') as f:\n",
    "  json.dump(training_history.history, f)\n",
    "\n",
    "# ... (other code) ...\n",
    "\n",
    "#Reloading Training history\n",
    "import json\n",
    "# Use the same path here when loading\n",
    "with open(file_path, 'r') as json_file:\n",
    "    training_history_data = json.load(json_file)"
   ]
  },
  {
   "cell_type": "code",
   "execution_count": 41,
   "metadata": {
    "colab": {
     "base_uri": "https://localhost:8080/"
    },
    "executionInfo": {
     "elapsed": 391,
     "status": "ok",
     "timestamp": 1734528443739,
     "user": {
      "displayName": "24/AFI/09 SUJYOTI JHA",
      "userId": "14757572772141335405"
     },
     "user_tz": -330
    },
    "id": "EV1qAbYBahX5",
    "outputId": "f54bf7d5-cbd0-4d5c-f36b-733713ecc0ce"
   },
   "outputs": [
    {
     "data": {
      "text/plain": [
       "dict_keys(['accuracy', 'loss', 'val_accuracy', 'val_loss'])"
      ]
     },
     "execution_count": 41,
     "metadata": {},
     "output_type": "execute_result"
    }
   ],
   "source": [
    "training_history_data.keys()"
   ]
  },
  {
   "cell_type": "markdown",
   "metadata": {
    "id": "YuOZP5UjakK-"
   },
   "source": [
    "# Model Evaluation - I"
   ]
  },
  {
   "cell_type": "code",
   "execution_count": 42,
   "metadata": {
    "colab": {
     "base_uri": "https://localhost:8080/"
    },
    "executionInfo": {
     "elapsed": 14662,
     "status": "ok",
     "timestamp": 1734528464045,
     "user": {
      "displayName": "24/AFI/09 SUJYOTI JHA",
      "userId": "14757572772141335405"
     },
     "user_tz": -330
    },
    "id": "4jBKAf9KamnP",
    "outputId": "b4bf05a7-ab5a-46b6-e8a0-f9a94fe5cdfa"
   },
   "outputs": [
    {
     "name": "stdout",
     "output_type": "stream",
     "text": [
      "\u001b[1m375/375\u001b[0m \u001b[32m━━━━━━━━━━━━━━━━━━━━\u001b[0m\u001b[37m\u001b[0m \u001b[1m9s\u001b[0m 21ms/step - accuracy: 0.9949 - loss: 0.0181\n"
     ]
    }
   ],
   "source": [
    "#Model evaluation on Training set\n",
    "train_loss,train_accuracy = model.evaluate(X_train,Y_train)"
   ]
  },
  {
   "cell_type": "code",
   "execution_count": 43,
   "metadata": {
    "colab": {
     "base_uri": "https://localhost:8080/"
    },
    "executionInfo": {
     "elapsed": 435,
     "status": "ok",
     "timestamp": 1734528488708,
     "user": {
      "displayName": "24/AFI/09 SUJYOTI JHA",
      "userId": "14757572772141335405"
     },
     "user_tz": -330
    },
    "id": "d9u3qYrKaqT7",
    "outputId": "afa6ac08-494c-4277-8351-f630667cb675"
   },
   "outputs": [
    {
     "data": {
      "text/plain": [
       "(0.01845363900065422, 0.9953255653381348)"
      ]
     },
     "execution_count": 43,
     "metadata": {},
     "output_type": "execute_result"
    }
   ],
   "source": [
    "train_loss,train_accuracy"
   ]
  },
  {
   "cell_type": "code",
   "execution_count": 44,
   "metadata": {
    "colab": {
     "base_uri": "https://localhost:8080/"
    },
    "executionInfo": {
     "elapsed": 3017,
     "status": "ok",
     "timestamp": 1734528494181,
     "user": {
      "displayName": "24/AFI/09 SUJYOTI JHA",
      "userId": "14757572772141335405"
     },
     "user_tz": -330
    },
    "id": "v3JckbvSavNX",
    "outputId": "cd856499-1084-4617-a23f-3a0e14a61552"
   },
   "outputs": [
    {
     "name": "stdout",
     "output_type": "stream",
     "text": [
      "\u001b[1m94/94\u001b[0m \u001b[32m━━━━━━━━━━━━━━━━━━━━\u001b[0m\u001b[37m\u001b[0m \u001b[1m2s\u001b[0m 21ms/step - accuracy: 0.9098 - loss: 0.4069\n"
     ]
    }
   ],
   "source": [
    "#Model evaluation on Validation set\n",
    "val_loss,val_accuracy = model.evaluate(X_test,Y_test)"
   ]
  },
  {
   "cell_type": "code",
   "execution_count": 45,
   "metadata": {
    "colab": {
     "base_uri": "https://localhost:8080/"
    },
    "executionInfo": {
     "elapsed": 420,
     "status": "ok",
     "timestamp": 1734528496816,
     "user": {
      "displayName": "24/AFI/09 SUJYOTI JHA",
      "userId": "14757572772141335405"
     },
     "user_tz": -330
    },
    "id": "lK-9xnItawG_",
    "outputId": "966d07ee-5691-461d-dbc5-a28c0a5bd8fe"
   },
   "outputs": [
    {
     "data": {
      "text/plain": [
       "(0.3818768262863159, 0.9128547310829163)"
      ]
     },
     "execution_count": 45,
     "metadata": {},
     "output_type": "execute_result"
    }
   ],
   "source": [
    "val_loss,val_accuracy"
   ]
  },
  {
   "cell_type": "code",
   "execution_count": 46,
   "metadata": {
    "colab": {
     "base_uri": "https://localhost:8080/"
    },
    "executionInfo": {
     "elapsed": 423,
     "status": "ok",
     "timestamp": 1734528500110,
     "user": {
      "displayName": "24/AFI/09 SUJYOTI JHA",
      "userId": "14757572772141335405"
     },
     "user_tz": -330
    },
    "id": "uwgN9bKPayk9",
    "outputId": "01f36429-2f08-4c92-f832-b1fad0d4e3c0"
   },
   "outputs": [
    {
     "data": {
      "text/plain": [
       "[1.7765065431594849,\n",
       " 1.365373134613037,\n",
       " 1.0690630674362183,\n",
       " 0.9557346701622009,\n",
       " 0.8923909068107605,\n",
       " 0.7552258968353271,\n",
       " 0.7122796773910522,\n",
       " 0.5900972485542297,\n",
       " 0.7362906336784363,\n",
       " 0.5410022139549255,\n",
       " 0.6133965253829956,\n",
       " 0.5120929479598999,\n",
       " 0.5422831177711487,\n",
       " 0.42677009105682373,\n",
       " 0.42588111758232117,\n",
       " 0.4920903742313385,\n",
       " 0.45022690296173096,\n",
       " 0.4012496769428253,\n",
       " 0.5340575575828552,\n",
       " 0.3605303168296814,\n",
       " 0.33300313353538513,\n",
       " 0.5533351302146912,\n",
       " 0.39350560307502747,\n",
       " 0.4341227412223816,\n",
       " 0.3460250794887543,\n",
       " 0.3361426293849945,\n",
       " 0.43760624527931213,\n",
       " 0.3423578143119812,\n",
       " 0.38867661356925964,\n",
       " 0.3818768262863159]"
      ]
     },
     "execution_count": 46,
     "metadata": {},
     "output_type": "execute_result"
    }
   ],
   "source": [
    "training_history_data['val_loss']"
   ]
  },
  {
   "cell_type": "markdown",
   "metadata": {
    "id": "TrUbrARUa4sU"
   },
   "source": [
    "# Accuracy and Loss Visualization"
   ]
  },
  {
   "cell_type": "code",
   "execution_count": 47,
   "metadata": {
    "colab": {
     "base_uri": "https://localhost:8080/",
     "height": 472
    },
    "executionInfo": {
     "elapsed": 1118,
     "status": "ok",
     "timestamp": 1734528508942,
     "user": {
      "displayName": "24/AFI/09 SUJYOTI JHA",
      "userId": "14757572772141335405"
     },
     "user_tz": -330
    },
    "id": "vAfHsogYa7Nb",
    "outputId": "a2373e8c-a3f7-4415-ab99-527aaf38dcc1"
   },
   "outputs": [
    {
     "data": {
      "image/png": "[encoded data removed]",
      "text/plain": [
       "<Figure size 640x480 with 1 Axes>"
      ]
     },
     "metadata": {},
     "output_type": "display_data"
    }
   ],
   "source": [
    "#Visualization of Loss\n",
    "epochs = [i for i in range(1,31)]\n",
    "plt.plot(epochs,training_history_data['loss'],label=\"Training Loss\",color='red')\n",
    "plt.plot(epochs,training_history_data['val_loss'],label=\"Validation Loss\",color='blue')\n",
    "plt.xlabel(\"No. of Epochs\")\n",
    "plt.ylabel(\"Loss\")\n",
    "plt.title(\"Visualization of Loss Result\")\n",
    "plt.legend()\n",
    "plt.show()"
   ]
  },
  {
   "cell_type": "code",
   "execution_count": 48,
   "metadata": {
    "colab": {
     "base_uri": "https://localhost:8080/",
     "height": 472
    },
    "executionInfo": {
     "elapsed": 689,
     "status": "ok",
     "timestamp": 1734528513449,
     "user": {
      "displayName": "24/AFI/09 SUJYOTI JHA",
      "userId": "14757572772141335405"
     },
     "user_tz": -330
    },
    "id": "qTsDTxU6bB88",
    "outputId": "9df9a246-2446-4140-8ad3-7d3699d5f0fb"
   },
   "outputs": [
    {
     "data": {
      "image/png": "[encoded data removed]",
      "text/plain": [
       "<Figure size 640x480 with 1 Axes>"
      ]
     },
     "metadata": {},
     "output_type": "display_data"
    }
   ],
   "source": [
    "#Visualization of Accuracy\n",
    "epochs = [i for i in range(1,31)]\n",
    "plt.plot(epochs,training_history_data['accuracy'],label=\"Training Accuracy\",color='red')\n",
    "plt.plot(epochs,training_history_data['val_accuracy'],label=\"Validation Accuracy\",color='blue')\n",
    "plt.xlabel(\"No. of Epochs\")\n",
    "plt.ylabel(\"Accuracy\")\n",
    "plt.title(\"Visualization of Accuracy Result\")\n",
    "plt.legend()\n",
    "plt.show()"
   ]
  },
  {
   "cell_type": "code",
   "execution_count": null,
   "metadata": {
    "id": "4G3-5tFmbC7u"
   },
   "outputs": [],
   "source": []
  },
  {
   "cell_type": "markdown",
   "metadata": {
    "id": "Tdmh0JwibEaU"
   },
   "source": [
    "# Precision,Recall,Confusion Matrix - Model Evaluation-II\n"
   ]
  },
  {
   "cell_type": "code",
   "execution_count": 49,
   "metadata": {
    "colab": {
     "base_uri": "https://localhost:8080/"
    },
    "executionInfo": {
     "elapsed": 537,
     "status": "ok",
     "timestamp": 1734528545572,
     "user": {
      "displayName": "24/AFI/09 SUJYOTI JHA",
      "userId": "14757572772141335405"
     },
     "user_tz": -330
    },
    "id": "3J6h6SswbGy1",
    "outputId": "9a03f691-6553-478e-ed21-9a4fea69112a"
   },
   "outputs": [
    {
     "data": {
      "text/plain": [
       "(2995, 150, 150, 1)"
      ]
     },
     "execution_count": 49,
     "metadata": {},
     "output_type": "execute_result"
    }
   ],
   "source": [
    "X_test.shape"
   ]
  },
  {
   "cell_type": "code",
   "execution_count": 50,
   "metadata": {
    "colab": {
     "base_uri": "https://localhost:8080/"
    },
    "executionInfo": {
     "elapsed": 2993,
     "status": "ok",
     "timestamp": 1734528550169,
     "user": {
      "displayName": "24/AFI/09 SUJYOTI JHA",
      "userId": "14757572772141335405"
     },
     "user_tz": -330
    },
    "id": "9-8VRsAWbInl",
    "outputId": "471ca6fc-eb60-4bb3-a3a8-5f69333262b6"
   },
   "outputs": [
    {
     "name": "stdout",
     "output_type": "stream",
     "text": [
      "\u001b[1m94/94\u001b[0m \u001b[32m━━━━━━━━━━━━━━━━━━━━\u001b[0m\u001b[37m\u001b[0m \u001b[1m2s\u001b[0m 19ms/step\n"
     ]
    },
    {
     "data": {
      "text/plain": [
       "array([[1.6409029e-23, 2.3396493e-25, 4.9198839e-22, ..., 1.0000000e+00,\n",
       "        8.0720961e-15, 1.3075953e-20],\n",
       "       [8.2861392e-13, 7.1122513e-13, 9.5693080e-12, ..., 6.8709877e-12,\n",
       "        1.3316370e-14, 6.5459908e-06],\n",
       "       [5.1585036e-10, 8.6397228e-18, 9.9329766e-15, ..., 7.3268457e-18,\n",
       "        4.6553685e-15, 1.5131828e-11],\n",
       "       ...,\n",
       "       [1.0000000e+00, 1.2063039e-30, 7.3892612e-13, ..., 2.5693152e-27,\n",
       "        1.0554680e-25, 1.2437868e-19],\n",
       "       [8.7188200e-06, 9.9980229e-01, 1.5855861e-06, ..., 2.4609981e-05,\n",
       "        2.5552567e-06, 7.5857483e-06],\n",
       "       [1.1753211e-14, 4.6694849e-17, 2.1908779e-21, ..., 1.1730283e-09,\n",
       "        7.3126991e-11, 1.1730467e-12]], dtype=float32)"
      ]
     },
     "execution_count": 50,
     "metadata": {},
     "output_type": "execute_result"
    }
   ],
   "source": [
    "y_pred = model.predict(X_test)\n",
    "y_pred"
   ]
  },
  {
   "cell_type": "code",
   "execution_count": 51,
   "metadata": {
    "colab": {
     "base_uri": "https://localhost:8080/"
    },
    "executionInfo": {
     "elapsed": 425,
     "status": "ok",
     "timestamp": 1734528553261,
     "user": {
      "displayName": "24/AFI/09 SUJYOTI JHA",
      "userId": "14757572772141335405"
     },
     "user_tz": -330
    },
    "id": "m-Sz1mVubLPs",
    "outputId": "6b55a58b-1d4a-48ae-d76a-a0f088ed53d6"
   },
   "outputs": [
    {
     "data": {
      "text/plain": [
       "(2995, 10)"
      ]
     },
     "execution_count": 51,
     "metadata": {},
     "output_type": "execute_result"
    }
   ],
   "source": [
    "y_pred.shape"
   ]
  },
  {
   "cell_type": "code",
   "execution_count": 52,
   "metadata": {
    "colab": {
     "base_uri": "https://localhost:8080/"
    },
    "executionInfo": {
     "elapsed": 9,
     "status": "ok",
     "timestamp": 1734528555537,
     "user": {
      "displayName": "24/AFI/09 SUJYOTI JHA",
      "userId": "14757572772141335405"
     },
     "user_tz": -330
    },
    "id": "BCUJhs4QbPlY",
    "outputId": "62f73d5c-6dc6-436e-a5d3-60825303d0a9"
   },
   "outputs": [
    {
     "data": {
      "text/plain": [
       "array([7, 6, 6, ..., 0, 1, 4])"
      ]
     },
     "execution_count": 52,
     "metadata": {},
     "output_type": "execute_result"
    }
   ],
   "source": [
    "predicted_categories = np.argmax(y_pred,axis=1)\n",
    "predicted_categories"
   ]
  },
  {
   "cell_type": "code",
   "execution_count": 53,
   "metadata": {
    "colab": {
     "base_uri": "https://localhost:8080/"
    },
    "executionInfo": {
     "elapsed": 408,
     "status": "ok",
     "timestamp": 1734528558806,
     "user": {
      "displayName": "24/AFI/09 SUJYOTI JHA",
      "userId": "14757572772141335405"
     },
     "user_tz": -330
    },
    "id": "b2SN6D4tbSQ3",
    "outputId": "17a0cfe5-b9ff-4dfb-ad19-8e3392c770ba"
   },
   "outputs": [
    {
     "data": {
      "text/plain": [
       "array([[0., 0., 0., ..., 1., 0., 0.],\n",
       "       [0., 0., 0., ..., 0., 0., 0.],\n",
       "       [0., 0., 0., ..., 0., 0., 0.],\n",
       "       ...,\n",
       "       [1., 0., 0., ..., 0., 0., 0.],\n",
       "       [0., 1., 0., ..., 0., 0., 0.],\n",
       "       [0., 0., 0., ..., 0., 0., 0.]])"
      ]
     },
     "execution_count": 53,
     "metadata": {},
     "output_type": "execute_result"
    }
   ],
   "source": [
    "Y_test"
   ]
  },
  {
   "cell_type": "code",
   "execution_count": 54,
   "metadata": {
    "colab": {
     "base_uri": "https://localhost:8080/"
    },
    "executionInfo": {
     "elapsed": 419,
     "status": "ok",
     "timestamp": 1734528561295,
     "user": {
      "displayName": "24/AFI/09 SUJYOTI JHA",
      "userId": "14757572772141335405"
     },
     "user_tz": -330
    },
    "id": "RkjTEDYtbUHb",
    "outputId": "f2e4905d-3482-4547-e5ce-f4b36a6eedcd"
   },
   "outputs": [
    {
     "data": {
      "text/plain": [
       "(2995, 10)"
      ]
     },
     "execution_count": 54,
     "metadata": {},
     "output_type": "execute_result"
    }
   ],
   "source": [
    "Y_test.shape"
   ]
  },
  {
   "cell_type": "code",
   "execution_count": 55,
   "metadata": {
    "colab": {
     "base_uri": "https://localhost:8080/"
    },
    "executionInfo": {
     "elapsed": 402,
     "status": "ok",
     "timestamp": 1734528563970,
     "user": {
      "displayName": "24/AFI/09 SUJYOTI JHA",
      "userId": "14757572772141335405"
     },
     "user_tz": -330
    },
    "id": "uOlgtdWvbU6n",
    "outputId": "8c129e6c-8042-466b-c9e5-4dd372545fc7"
   },
   "outputs": [
    {
     "data": {
      "text/plain": [
       "array([7, 6, 6, ..., 0, 1, 4])"
      ]
     },
     "execution_count": 55,
     "metadata": {},
     "output_type": "execute_result"
    }
   ],
   "source": [
    "true_categories = np.argmax(Y_test,axis=1)\n",
    "true_categories"
   ]
  },
  {
   "cell_type": "code",
   "execution_count": 56,
   "metadata": {
    "colab": {
     "base_uri": "https://localhost:8080/"
    },
    "executionInfo": {
     "elapsed": 398,
     "status": "ok",
     "timestamp": 1734528566225,
     "user": {
      "displayName": "24/AFI/09 SUJYOTI JHA",
      "userId": "14757572772141335405"
     },
     "user_tz": -330
    },
    "id": "km92_QvTbXmn",
    "outputId": "c2081b5a-69a8-4794-8ac0-19f2d60a5fae"
   },
   "outputs": [
    {
     "data": {
      "text/plain": [
       "['blues',\n",
       " 'classical',\n",
       " 'country',\n",
       " 'disco',\n",
       " 'hiphop',\n",
       " 'jazz',\n",
       " 'metal',\n",
       " 'pop',\n",
       " 'reggae',\n",
       " 'rock']"
      ]
     },
     "execution_count": 56,
     "metadata": {},
     "output_type": "execute_result"
    }
   ],
   "source": [
    "classes"
   ]
  },
  {
   "cell_type": "code",
   "execution_count": 57,
   "metadata": {
    "colab": {
     "base_uri": "https://localhost:8080/"
    },
    "executionInfo": {
     "elapsed": 409,
     "status": "ok",
     "timestamp": 1734528568840,
     "user": {
      "displayName": "24/AFI/09 SUJYOTI JHA",
      "userId": "14757572772141335405"
     },
     "user_tz": -330
    },
    "id": "eRULf9ofba6B",
    "outputId": "15b78413-6c88-4f40-85d4-c922e6f2b2a5"
   },
   "outputs": [
    {
     "name": "stdout",
     "output_type": "stream",
     "text": [
      "              precision    recall  f1-score   support\n",
      "\n",
      "       blues       0.89      0.92      0.91       302\n",
      "   classical       0.93      0.98      0.95       298\n",
      "     country       0.90      0.81      0.85       317\n",
      "       disco       0.96      0.91      0.93       312\n",
      "      hiphop       0.95      0.94      0.94       277\n",
      "        jazz       0.91      0.89      0.90       311\n",
      "       metal       0.95      0.95      0.95       302\n",
      "         pop       0.91      0.91      0.91       289\n",
      "      reggae       0.98      0.91      0.94       296\n",
      "        rock       0.78      0.91      0.84       291\n",
      "\n",
      "    accuracy                           0.91      2995\n",
      "   macro avg       0.92      0.91      0.91      2995\n",
      "weighted avg       0.92      0.91      0.91      2995\n",
      "\n"
     ]
    }
   ],
   "source": [
    "from sklearn.metrics import confusion_matrix,classification_report\n",
    "cm = confusion_matrix(true_categories,predicted_categories)\n",
    "# Precision Recall F1score\n",
    "print(classification_report(true_categories,predicted_categories,target_names=classes))\n"
   ]
  },
  {
   "cell_type": "markdown",
   "metadata": {
    "id": "Mzyo6qJMbu3n"
   },
   "source": []
  },
  {
   "cell_type": "markdown",
   "metadata": {
    "id": "b6P_i0Habu5f"
   },
   "source": [
    "# Confusion Matrix Visualization"
   ]
  },
  {
   "cell_type": "code",
   "execution_count": 58,
   "metadata": {
    "colab": {
     "base_uri": "https://localhost:8080/"
    },
    "executionInfo": {
     "elapsed": 373,
     "status": "ok",
     "timestamp": 1734528572481,
     "user": {
      "displayName": "24/AFI/09 SUJYOTI JHA",
      "userId": "14757572772141335405"
     },
     "user_tz": -330
    },
    "id": "WJQLxkJxberp",
    "outputId": "4b9cb71b-586e-49c3-8b37-ffe97221db80"
   },
   "outputs": [
    {
     "data": {
      "text/plain": [
       "array([[279,   0,  10,   1,   0,   3,   0,   3,   0,   6],\n",
       "       [  0, 292,   1,   0,   0,   4,   0,   1,   0,   0],\n",
       "       [ 14,   2, 257,   0,   2,  12,   1,   3,   3,  23],\n",
       "       [  2,   2,   4, 283,   2,   0,   3,   2,   0,  14],\n",
       "       [  1,   0,   0,   2, 259,   1,   2,   7,   1,   4],\n",
       "       [  7,  15,   2,   1,   0, 278,   0,   2,   0,   6],\n",
       "       [  1,   0,   2,   0,   2,   0, 287,   0,   0,  10],\n",
       "       [  2,   2,   4,   1,   4,   0,   0, 263,   2,  11],\n",
       "       [  7,   1,   3,   3,   3,   4,   0,   3, 270,   2],\n",
       "       [  0,   1,   4,   4,   0,   4,   8,   4,   0, 266]])"
      ]
     },
     "execution_count": 58,
     "metadata": {},
     "output_type": "execute_result"
    }
   ],
   "source": [
    "cm"
   ]
  },
  {
   "cell_type": "code",
   "execution_count": 59,
   "metadata": {
    "colab": {
     "base_uri": "https://localhost:8080/",
     "height": 859
    },
    "executionInfo": {
     "elapsed": 1211,
     "status": "ok",
     "timestamp": 1734528575878,
     "user": {
      "displayName": "24/AFI/09 SUJYOTI JHA",
      "userId": "14757572772141335405"
     },
     "user_tz": -330
    },
    "id": "FXnOBFzLbhaz",
    "outputId": "78e048b0-8bc8-4ae8-8762-19f9f6010ba7"
   },
   "outputs": [
    {
     "data": {
      "image/png": "[encoded data removed]",
      "text/plain": [
       "<Figure size 1500x1500 with 2 Axes>"
      ]
     },
     "metadata": {},
     "output_type": "display_data"
    }
   ],
   "source": [
    "import seaborn as sns\n",
    "plt.figure(figsize=(15,15))\n",
    "sns.heatmap(cm,annot=True,annot_kws={\"size\":10})\n",
    "plt.xlabel(\"Predicted Class\",fontsize=10)\n",
    "plt.ylabel(\"Actual Class\",fontsize=10)\n",
    "plt.title(\"Music Genre Classification Confusion Matrix\",fontsize=15)\n",
    "plt.show()"
   ]
  }
 ],
 "metadata": {
  "accelerator": "GPU",
  "colab": {
   "authorship_tag": "ABX9TyM274WcYIX7/RUCJfMcvPPU",
   "gpuType": "T4",
   "mount_file_id": "1ohIZdYquBNeahIMC4ii2qUl7v0eFGWW7",
   "provenance": []
  },
  "kernelspec": {
   "display_name": "tensorflow_env",
   "language": "python",
   "name": "python3"
  },
  "language_info": {
   "name": "python",
   "version": "3.10.15"
  }
 },
 "nbformat": 4,
 "nbformat_minor": 0
}
